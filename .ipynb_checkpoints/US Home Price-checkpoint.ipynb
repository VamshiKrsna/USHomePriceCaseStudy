{
 "cells": [
  {
   "cell_type": "markdown",
   "id": "ccd90926-001c-42bf-87b9-b9ceece2ca77",
   "metadata": {},
   "source": [
    "# US Home Price casestudy"
   ]
  },
  {
   "cell_type": "markdown",
   "id": "ea996cf4-66d0-477a-b2e2-927e19066002",
   "metadata": {},
   "source": [
    "This Notebook contains a casestudy on US Home Prices and key factors that influence home prices.\n",
    "\n",
    "\n",
    "we will be collecting publicly available data, clean the data, build a final dataset, perform EDA & Data Visualization and finally build a data science model"
   ]
  },
  {
   "cell_type": "markdown",
   "id": "4c02fb45-b7bb-42f2-8d64-cce3269cd0cb",
   "metadata": {},
   "source": [
    "## 1. Data Collection\n",
    "\n",
    "\n",
    "* We will not be using ready made datasets from kaggle, but I have chosen FRED (Federal Reserve Economic Data) as a reliable public data source.\n",
    "* We will be using some key factors like GDP, Mortgage, Unemployment rate, Population growth etc to carry out case study and model building\n",
    "  "
   ]
  },
  {
   "cell_type": "code",
   "execution_count": 1,
   "id": "ed596675-f354-4706-b2a8-235fe4948f94",
   "metadata": {},
   "outputs": [
    {
     "name": "stdout",
     "output_type": "stream",
     "text": [
      "Collecting fredapi\n",
      "  Downloading fredapi-0.5.2-py3-none-any.whl.metadata (5.0 kB)\n",
      "Requirement already satisfied: pandas in c:\\python312\\lib\\site-packages (from fredapi) (2.1.4)\n",
      "Requirement already satisfied: numpy<2,>=1.26.0 in c:\\python312\\lib\\site-packages (from pandas->fredapi) (1.26.4)\n",
      "Requirement already satisfied: python-dateutil>=2.8.2 in c:\\python312\\lib\\site-packages (from pandas->fredapi) (2.9.0.post0)\n",
      "Requirement already satisfied: pytz>=2020.1 in c:\\python312\\lib\\site-packages (from pandas->fredapi) (2024.1)\n",
      "Requirement already satisfied: tzdata>=2022.1 in c:\\python312\\lib\\site-packages (from pandas->fredapi) (2024.1)\n",
      "Requirement already satisfied: six>=1.5 in c:\\python312\\lib\\site-packages (from python-dateutil>=2.8.2->pandas->fredapi) (1.16.0)\n",
      "Downloading fredapi-0.5.2-py3-none-any.whl (11 kB)\n",
      "Installing collected packages: fredapi\n",
      "Successfully installed fredapi-0.5.2\n"
     ]
    },
    {
     "name": "stderr",
     "output_type": "stream",
     "text": [
      "\n",
      "[notice] A new release of pip is available: 24.0 -> 24.1.2\n",
      "[notice] To update, run: python.exe -m pip install --upgrade pip\n"
     ]
    }
   ],
   "source": [
    "# installing fred api : \n",
    "# !pip install fredapi"
   ]
  },
  {
   "cell_type": "code",
   "execution_count": 116,
   "id": "d90faf15-6f64-4cb2-ac53-4f2c6a0fcdd6",
   "metadata": {},
   "outputs": [
    {
     "ename": "SyntaxError",
     "evalue": "invalid syntax. Perhaps you forgot a comma? (4108437525.py, line 35)",
     "output_type": "error",
     "traceback": [
      "\u001b[1;36m  Cell \u001b[1;32mIn[116], line 35\u001b[1;36m\u001b[0m\n\u001b[1;33m    df.to_csv(os.path.join(data_dir, f{series}.csv), index=False)\u001b[0m\n\u001b[1;37m                                     ^\u001b[0m\n\u001b[1;31mSyntaxError\u001b[0m\u001b[1;31m:\u001b[0m invalid syntax. Perhaps you forgot a comma?\n"
     ]
    }
   ],
   "source": [
    "import os\n",
    "import pandas as pd\n",
    "from fredapi import Fred\n",
    "from dotenv import load_dotenv\n",
    "\n",
    "load_dotenv()\n",
    "FRED_API_KEY = os.getenv(\"FRED_API_KEY\")\n",
    "\n",
    "fred = Fred(api_key=FRED_API_KEY)\n",
    "\n",
    "data_dir = data\n",
    "if not os.path.exists(data_dir):\n",
    "    os.makedirs(data_dir)\n",
    "\n",
    "series_list = [\n",
    "    CPIAUCSL,  # Consumer Price Index for All Urban Consumers: Seasonally Adjusted (CPI-U)\n",
    "    CSUSHPISA,  # S&P Case-Shiller US National Home Price Index\n",
    "    FEDFUNDS,  # Effective Federal Funds Rate\n",
    "    GDB,  # Gross Domestic Product\n",
    "    HOUST,  # Housing Starts\n",
    "    MCOILWTICO,  # Crude Oil Prices (West Texas)\n",
    "    MEHOINUSA672N,  # Median Household Income\n",
    "    MORTGAGE15US,  # 15 Years Fixed rate mortgage average\n",
    "    MORTGAGE30US,  # 30 Years Fixed rate mortgage average\n",
    "    POP,  # Population in the US\n",
    "    UNRATE  # Unemployment Rate\n",
    "]\n",
    "\n",
    "# I have included more explanation about above features in descriptions.txt\n",
    "\n",
    "for series in series_list:\n",
    "    data = fred.get_series(series)\n",
    "    df = data.reset_index()\n",
    "    df.columns = [date, value]  \n",
    "    df.to_csv(os.path.join(data_dir, f{series}.csv), index=False)\n",
    "    print(f\"Saved {series} to {data_dir}/{series}.csv\")\n",
    "    print(df.head())  "
   ]
  },
  {
   "cell_type": "markdown",
   "id": "db66bdc2-9564-4a29-89f8-8c4b10b9af4b",
   "metadata": {},
   "source": [
    "Now we have data of required key factors. I have thought of other more key factors like crime rate, etc. but to reduce the complexity of understanding and to keep it simple, we will be continuing with these factors only.\n",
    "\n",
    "\n",
    "We have total of 10 key features and 1 target feature (CSUSHPISA as the proxy for home price indication) "
   ]
  },
  {
   "cell_type": "markdown",
   "id": "9710f9cf-cc09-4ff4-b58e-7710512e6c98",
   "metadata": {},
   "source": [
    "## 2. Data Cleaning\n",
    "\n",
    "In this section, we will be finalizing on how many years of data should we use to build the final dataset. and if there are any null values in the dataset, we will fill them or remove them."
   ]
  },
  {
   "cell_type": "code",
   "execution_count": 19,
   "id": "39db0d35-7494-4bec-95db-7edd05312ebe",
   "metadata": {},
   "outputs": [
    {
     "name": "stdout",
     "output_type": "stream",
     "text": [
      "         date  value\n",
      "0  1947-01-01  21.48\n",
      "1  1947-02-01  21.62\n",
      "2  1947-03-01  22.00\n",
      "3  1947-04-01  22.00\n",
      "4  1947-05-01  21.95\n",
      "         date  value\n",
      "0  1975-01-01    NaN\n",
      "1  1975-02-01    NaN\n",
      "2  1975-03-01    NaN\n",
      "3  1975-04-01    NaN\n",
      "4  1975-05-01    NaN\n",
      "         date  value\n",
      "0  1954-07-01   0.80\n",
      "1  1954-08-01   1.22\n",
      "2  1954-09-01   1.07\n",
      "3  1954-10-01   0.85\n",
      "4  1954-11-01   0.83\n",
      "         date    value\n",
      "0  1946-01-01      NaN\n",
      "1  1946-04-01      NaN\n",
      "2  1946-07-01      NaN\n",
      "3  1946-10-01      NaN\n",
      "4  1947-01-01  232.289\n",
      "         date   value\n",
      "0  1959-01-01  1657.0\n",
      "1  1959-02-01  1667.0\n",
      "2  1959-03-01  1620.0\n",
      "3  1959-04-01  1590.0\n",
      "4  1959-05-01  1498.0\n",
      "         date  value\n",
      "0  1986-01-01  22.93\n",
      "1  1986-02-01  15.46\n",
      "2  1986-03-01  12.61\n",
      "3  1986-04-01  12.84\n",
      "4  1986-05-01  15.38\n",
      "         date    value\n",
      "0  1984-01-01  56780.0\n",
      "1  1985-01-01  57860.0\n",
      "2  1986-01-01  60010.0\n",
      "3  1987-01-01  60760.0\n",
      "4  1988-01-01  61210.0\n",
      "         date  value\n",
      "0  1991-08-30   8.77\n",
      "1  1991-09-06   8.79\n",
      "2  1991-09-13   8.68\n",
      "3  1991-09-20   8.62\n",
      "4  1991-09-27   8.59\n",
      "         date  value\n",
      "0  1971-04-02   7.33\n",
      "1  1971-04-09   7.31\n",
      "2  1971-04-16   7.31\n",
      "3  1971-04-23   7.31\n",
      "4  1971-04-30   7.29\n",
      "         date     value\n",
      "0  1952-01-01  156309.0\n",
      "1  1952-02-01  156527.0\n",
      "2  1952-03-01  156731.0\n",
      "3  1952-04-01  156943.0\n",
      "4  1952-05-01  157140.0\n",
      "         date  value\n",
      "0  1948-01-01    3.4\n",
      "1  1948-02-01    3.8\n",
      "2  1948-03-01    4.0\n",
      "3  1948-04-01    3.9\n",
      "4  1948-05-01    3.5\n"
     ]
    }
   ],
   "source": [
    "import numpy as np\n",
    "import pandas as pd\n",
    "import os\n",
    "\n",
    "cwd = os.getcwd()\n",
    "\n",
    "data_dir = os.path.join(cwd, data)\n",
    "\n",
    "cpi = pd.read_csv(os.path.join(data_dir, CPIAUCSL.csv))\n",
    "csus = pd.read_csv(os.path.join(data_dir, CSUSHPISA.csv))\n",
    "fedfunds = pd.read_csv(os.path.join(data_dir, FEDFUNDS.csv))\n",
    "gdp = pd.read_csv(os.path.join(data_dir, GDB.csv))\n",
    "houst = pd.read_csv(os.path.join(data_dir, HOUST.csv))\n",
    "mcoil = pd.read_csv(os.path.join(data_dir, MCOILWTICO.csv))\n",
    "meho = pd.read_csv(os.path.join(data_dir, MEHOINUSA672N.csv))\n",
    "mort15 = pd.read_csv(os.path.join(data_dir, MORTGAGE15US.csv))\n",
    "mort30 = pd.read_csv(os.path.join(data_dir, MORTGAGE30US.csv))\n",
    "pop = pd.read_csv(os.path.join(data_dir, POP.csv))\n",
    "unrate = pd.read_csv(os.path.join(data_dir, UNRATE.csv))\n",
    "\n",
    "\n",
    "print(cpi.head())\n",
    "print(csus.head())\n",
    "print(fedfunds.head())\n",
    "print(gdp.head())\n",
    "print(houst.head())\n",
    "print(mcoil.head())\n",
    "print(meho.head())\n",
    "print(mort15.head())\n",
    "print(mort30.head())\n",
    "print(pop.head())\n",
    "print(unrate.head())"
   ]
  },
  {
   "cell_type": "code",
   "execution_count": 22,
   "id": "fbd5afb2-357a-4bb4-adc4-15341574bae6",
   "metadata": {},
   "outputs": [
    {
     "data": {
      "text/plain": [
       "<Axes: >"
      ]
     },
     "execution_count": 22,
     "metadata": {},
     "output_type": "execute_result"
    },
    {
     "data": {
      "image/png": "[encoded data removed]",
      "text/plain": [
       "<Figure size 2500x1000 with 2 Axes>"
      ]
     },
     "metadata": {},
     "output_type": "display_data"
    }
   ],
   "source": [
    "import missingno as mno\n",
    "\n",
    "mno.matrix(csus)"
   ]
  },
  {
   "cell_type": "markdown",
   "id": "32d5ece9-48a6-4914-a20c-762aa02b10ac",
   "metadata": {},
   "source": [
    "We can see that in CSUSHPISA Data, we have some values missing. as this is our target feature, we will only continue with a range of available values."
   ]
  },
  {
   "cell_type": "code",
   "execution_count": 23,
   "id": "e024b572-0619-4956-a225-236c9fa97c5f",
   "metadata": {},
   "outputs": [
    {
     "name": "stdout",
     "output_type": "stream",
     "text": [
      "Missing years: [1975 1976 1977 1978 1979 1980 1981 1982 1983 1984 1985 1986]\n"
     ]
    }
   ],
   "source": [
    "missing_years = csus[csus[value].isna()][date]\n",
    "missing_years = pd.to_datetime(missing_years).dt.year\n",
    "print(\"Missing years:\", missing_years.unique())"
   ]
  },
  {
   "cell_type": "markdown",
   "id": "665574ab-0fee-4595-9866-a026b67c3bf6",
   "metadata": {},
   "source": [
    "We are missing data from 1975 to 1986, still we have data from 1987 to 2024, which is good enough, i.e, almost 37 years"
   ]
  },
  {
   "cell_type": "code",
   "execution_count": 32,
   "id": "29b5e5e5-a69b-4dba-9b6c-94e48054e936",
   "metadata": {},
   "outputs": [
    {
     "data": {
      "text/html": [
       "<div>\n",
       "<style scoped>\n",
       "    .dataframe tbody tr th:only-of-type {\n",
       "        vertical-align: middle;\n",
       "    }\n",
       "\n",
       "    .dataframe tbody tr th {\n",
       "        vertical-align: top;\n",
       "    }\n",
       "\n",
       "    .dataframe thead th {\n",
       "        text-align: right;\n",
       "    }\n",
       "</style>\n",
       "<table border=\"1\" class=\"dataframe\">\n",
       "  <thead>\n",
       "    <tr style=\"text-align: right;\">\n",
       "      <th></th>\n",
       "      <th>date</th>\n",
       "      <th>value</th>\n",
       "    </tr>\n",
       "  </thead>\n",
       "  <tbody>\n",
       "    <tr>\n",
       "      <th>0</th>\n",
       "      <td>1987-01-01</td>\n",
       "      <td>63.965</td>\n",
       "    </tr>\n",
       "    <tr>\n",
       "      <th>1</th>\n",
       "      <td>1987-02-01</td>\n",
       "      <td>64.423</td>\n",
       "    </tr>\n",
       "    <tr>\n",
       "      <th>2</th>\n",
       "      <td>1987-03-01</td>\n",
       "      <td>64.735</td>\n",
       "    </tr>\n",
       "    <tr>\n",
       "      <th>3</th>\n",
       "      <td>1987-04-01</td>\n",
       "      <td>65.131</td>\n",
       "    </tr>\n",
       "    <tr>\n",
       "      <th>4</th>\n",
       "      <td>1987-05-01</td>\n",
       "      <td>65.563</td>\n",
       "    </tr>\n",
       "    <tr>\n",
       "      <th>...</th>\n",
       "      <td>...</td>\n",
       "      <td>...</td>\n",
       "    </tr>\n",
       "    <tr>\n",
       "      <th>443</th>\n",
       "      <td>2023-12-01</td>\n",
       "      <td>314.443</td>\n",
       "    </tr>\n",
       "    <tr>\n",
       "      <th>444</th>\n",
       "      <td>2024-01-01</td>\n",
       "      <td>315.728</td>\n",
       "    </tr>\n",
       "    <tr>\n",
       "      <th>445</th>\n",
       "      <td>2024-02-01</td>\n",
       "      <td>317.257</td>\n",
       "    </tr>\n",
       "    <tr>\n",
       "      <th>446</th>\n",
       "      <td>2024-03-01</td>\n",
       "      <td>318.217</td>\n",
       "    </tr>\n",
       "    <tr>\n",
       "      <th>447</th>\n",
       "      <td>2024-04-01</td>\n",
       "      <td>319.048</td>\n",
       "    </tr>\n",
       "  </tbody>\n",
       "</table>\n",
       "<p>448 rows × 2 columns</p>\n",
       "</div>"
      ],
      "text/plain": [
       "           date    value\n",
       "0    1987-01-01   63.965\n",
       "1    1987-02-01   64.423\n",
       "2    1987-03-01   64.735\n",
       "3    1987-04-01   65.131\n",
       "4    1987-05-01   65.563\n",
       "..          ...      ...\n",
       "443  2023-12-01  314.443\n",
       "444  2024-01-01  315.728\n",
       "445  2024-02-01  317.257\n",
       "446  2024-03-01  318.217\n",
       "447  2024-04-01  319.048\n",
       "\n",
       "[448 rows x 2 columns]"
      ]
     },
     "execution_count": 32,
     "metadata": {},
     "output_type": "execute_result"
    }
   ],
   "source": [
    "csus.dropna()\n",
    "csus.reset_index(drop=True, inplace=True)\n",
    "csus"
   ]
  },
  {
   "cell_type": "code",
   "execution_count": 33,
   "id": "1e9700bc-3cb4-41f4-98b7-001d8f36a5fc",
   "metadata": {},
   "outputs": [
    {
     "data": {
      "text/plain": [
       "date     0\n",
       "value    0\n",
       "dtype: int64"
      ]
     },
     "execution_count": 33,
     "metadata": {},
     "output_type": "execute_result"
    }
   ],
   "source": [
    "csus.isnull().sum()"
   ]
  },
  {
   "cell_type": "markdown",
   "id": "721badfe-5925-4a6e-82e4-e8378f58b848",
   "metadata": {},
   "source": [
    "We are now left with 448 instances of data\n",
    "\n",
    "\n",
    "Now we will update all other dataframes to be in this date range only."
   ]
  },
  {
   "cell_type": "code",
   "execution_count": 35,
   "id": "9ef8a6b0-53cb-47e7-8c94-36e3c2a06264",
   "metadata": {},
   "outputs": [],
   "source": [
    "cpi = cpi[(cpi[date] >= 1987-01-01) & (cpi[date] <= 2024-03-01)]\n",
    "csus = csus[(csus[date] >= 1987-01-01) & (csus[date] <= 2024-03-01)]\n",
    "fedfunds = fedfunds[(fedfunds[date] >= 1987-01-01) & (fedfunds[date] <= 2024-03-01)]\n",
    "gdp = gdp[(gdp[date] >= 1987-01-01) & (gdp[date] <= 2024-03-01)]\n",
    "houst = houst[(houst[date] >= 1987-01-01) & (houst[date] <= 2024-03-01)]\n",
    "mcoil = mcoil[(mcoil[date] >= 1987-01-01) & (mcoil[date] <= 2024-03-01)]\n",
    "meho = meho[(meho[date] >= 1987-01-01) & (meho[date] <= 2024-03-01)]\n",
    "mort15 = mort15[(mort15[date] >= 1987-01-01) & (mort15[date] <= 2024-03-01)]\n",
    "mort30 = mort30[(mort30[date] >= 1987-01-01) & (mort30[date] <= 2024-03-01)]\n",
    "pop = pop[(pop[date] >= 1987-01-01) & (pop[date] <= 2024-03-01)]\n",
    "unrate = unrate[(unrate[date] >= 1987-01-01) & (unrate[date] <= 2024-03-01)]"
   ]
  },
  {
   "cell_type": "markdown",
   "id": "1e126144-1d1b-416b-a08f-048a9eb6a3e1",
   "metadata": {},
   "source": [
    "let us check whether all other dataframes have same number of values or not. and convert all the date time format of date to date only."
   ]
  },
  {
   "cell_type": "code",
   "execution_count": 83,
   "id": "882a5719-31b5-4cec-b6e8-38a044f81fa2",
   "metadata": {},
   "outputs": [],
   "source": [
    "cpi['date'] = pd.to_datetime(cpi['date'], format='%Y-%m-%d')\n",
    "csus['date'] = pd.to_datetime(csus['date'], format='%Y-%m-%d')\n",
    "fedfunds['date'] = pd.to_datetime(fedfunds['date'], format='%Y-%m-%d')\n",
    "gdp['date'] = pd.to_datetime(gdp['date'], format='%Y-%m-%d')\n",
    "houst['date'] = pd.to_datetime(houst['date'], format='%Y-%m-%d')\n",
    "mcoil['date'] = pd.to_datetime(mcoil['date'], format='%Y-%m-%d')\n",
    "meho['date'] = pd.to_datetime(meho['date'], format='%Y-%m-%d')\n",
    "mort15['date'] = pd.to_datetime(mort15['date'], format='%Y-%m-%d')\n",
    "mort30['date'] = pd.to_datetime(mort30['date'], format='%Y-%m-%d')\n",
    "pop['date'] = pd.to_datetime(pop['date'], format='%Y-%m-%d')\n",
    "unrate['date'] = pd.to_datetime(unrate['date'], format='%Y-%m-%d')"
   ]
  },
  {
   "cell_type": "code",
   "execution_count": 51,
   "id": "e8df918f-3a03-48fc-91b0-d45fadf45da9",
   "metadata": {},
   "outputs": [
    {
     "name": "stdout",
     "output_type": "stream",
     "text": [
      "(447, 2)\n",
      "(447, 2)\n",
      "(447, 2)\n",
      "(149, 2)\n",
      "(447, 2)\n",
      "(447, 2)\n",
      "(36, 2)\n",
      "(1697, 2)\n",
      "(1940, 2)\n",
      "(447, 2)\n",
      "(447, 2)\n"
     ]
    }
   ],
   "source": [
    "features = [csus,cpi,fedfunds,gdp,houst,mcoil,meho,mort15,mort30,pop,unrate]\n",
    "\n",
    "for feature in features:\n",
    "    feature.reset_index(drop=True, inplace=True)\n",
    "    print(f\"{feature.shape}\")"
   ]
  },
  {
   "cell_type": "markdown",
   "id": "b6d8f3f7-2306-483f-9c11-b73ef363ce16",
   "metadata": {},
   "source": [
    "We should be looking at gdp, meho, mort15,mort30 dataframes as they differ in our desired shape."
   ]
  },
  {
   "cell_type": "code",
   "execution_count": 55,
   "id": "ed9071a2-94be-4f0e-a8cf-96d0c7dde490",
   "metadata": {},
   "outputs": [
    {
     "data": {
      "text/html": [
       "<div>\n",
       "<style scoped>\n",
       "    .dataframe tbody tr th:only-of-type {\n",
       "        vertical-align: middle;\n",
       "    }\n",
       "\n",
       "    .dataframe tbody tr th {\n",
       "        vertical-align: top;\n",
       "    }\n",
       "\n",
       "    .dataframe thead th {\n",
       "        text-align: right;\n",
       "    }\n",
       "</style>\n",
       "<table border=\"1\" class=\"dataframe\">\n",
       "  <thead>\n",
       "    <tr style=\"text-align: right;\">\n",
       "      <th></th>\n",
       "      <th>date</th>\n",
       "      <th>value</th>\n",
       "    </tr>\n",
       "  </thead>\n",
       "  <tbody>\n",
       "    <tr>\n",
       "      <th>0</th>\n",
       "      <td>1987-01-01</td>\n",
       "      <td>4863.390</td>\n",
       "    </tr>\n",
       "    <tr>\n",
       "      <th>1</th>\n",
       "      <td>1987-04-01</td>\n",
       "      <td>4953.137</td>\n",
       "    </tr>\n",
       "    <tr>\n",
       "      <th>2</th>\n",
       "      <td>1987-07-01</td>\n",
       "      <td>5030.019</td>\n",
       "    </tr>\n",
       "    <tr>\n",
       "      <th>3</th>\n",
       "      <td>1987-10-01</td>\n",
       "      <td>5153.399</td>\n",
       "    </tr>\n",
       "    <tr>\n",
       "      <th>4</th>\n",
       "      <td>1988-01-01</td>\n",
       "      <td>5197.359</td>\n",
       "    </tr>\n",
       "  </tbody>\n",
       "</table>\n",
       "</div>"
      ],
      "text/plain": [
       "         date     value\n",
       "0  1987-01-01  4863.390\n",
       "1  1987-04-01  4953.137\n",
       "2  1987-07-01  5030.019\n",
       "3  1987-10-01  5153.399\n",
       "4  1988-01-01  5197.359"
      ]
     },
     "execution_count": 55,
     "metadata": {},
     "output_type": "execute_result"
    }
   ],
   "source": [
    "gdp.head() "
   ]
  },
  {
   "cell_type": "markdown",
   "id": "6e5c0c70-1e78-4a9e-8620-399d49f42e77",
   "metadata": {},
   "source": [
    "we can see that we have gdp once every three month (for every quarter), our strategy here is to take slope of first month and fourth month, impute it to the missing months."
   ]
  },
  {
   "cell_type": "code",
   "execution_count": 56,
   "id": "cd3308cf-9b99-4e6c-8fb5-56204bf52728",
   "metadata": {},
   "outputs": [
    {
     "data": {
      "text/html": [
       "<div>\n",
       "<style scoped>\n",
       "    .dataframe tbody tr th:only-of-type {\n",
       "        vertical-align: middle;\n",
       "    }\n",
       "\n",
       "    .dataframe tbody tr th {\n",
       "        vertical-align: top;\n",
       "    }\n",
       "\n",
       "    .dataframe thead th {\n",
       "        text-align: right;\n",
       "    }\n",
       "</style>\n",
       "<table border=\"1\" class=\"dataframe\">\n",
       "  <thead>\n",
       "    <tr style=\"text-align: right;\">\n",
       "      <th></th>\n",
       "      <th>date</th>\n",
       "      <th>value</th>\n",
       "    </tr>\n",
       "  </thead>\n",
       "  <tbody>\n",
       "    <tr>\n",
       "      <th>0</th>\n",
       "      <td>1987-01-01</td>\n",
       "      <td>4863.390</td>\n",
       "    </tr>\n",
       "    <tr>\n",
       "      <th>1</th>\n",
       "      <td>1987-04-01</td>\n",
       "      <td>4953.137</td>\n",
       "    </tr>\n",
       "    <tr>\n",
       "      <th>2</th>\n",
       "      <td>1987-07-01</td>\n",
       "      <td>5030.019</td>\n",
       "    </tr>\n",
       "    <tr>\n",
       "      <th>3</th>\n",
       "      <td>1987-10-01</td>\n",
       "      <td>5153.399</td>\n",
       "    </tr>\n",
       "    <tr>\n",
       "      <th>4</th>\n",
       "      <td>1988-01-01</td>\n",
       "      <td>5197.359</td>\n",
       "    </tr>\n",
       "    <tr>\n",
       "      <th>...</th>\n",
       "      <td>...</td>\n",
       "      <td>...</td>\n",
       "    </tr>\n",
       "    <tr>\n",
       "      <th>144</th>\n",
       "      <td>2023-01-01</td>\n",
       "      <td>27639.287</td>\n",
       "    </tr>\n",
       "    <tr>\n",
       "      <th>145</th>\n",
       "      <td>2023-04-01</td>\n",
       "      <td>27869.104</td>\n",
       "    </tr>\n",
       "    <tr>\n",
       "      <th>146</th>\n",
       "      <td>2023-07-01</td>\n",
       "      <td>28389.359</td>\n",
       "    </tr>\n",
       "    <tr>\n",
       "      <th>147</th>\n",
       "      <td>2023-10-01</td>\n",
       "      <td>28740.732</td>\n",
       "    </tr>\n",
       "    <tr>\n",
       "      <th>148</th>\n",
       "      <td>2024-01-01</td>\n",
       "      <td>29104.070</td>\n",
       "    </tr>\n",
       "  </tbody>\n",
       "</table>\n",
       "<p>149 rows × 2 columns</p>\n",
       "</div>"
      ],
      "text/plain": [
       "           date      value\n",
       "0    1987-01-01   4863.390\n",
       "1    1987-04-01   4953.137\n",
       "2    1987-07-01   5030.019\n",
       "3    1987-10-01   5153.399\n",
       "4    1988-01-01   5197.359\n",
       "..          ...        ...\n",
       "144  2023-01-01  27639.287\n",
       "145  2023-04-01  27869.104\n",
       "146  2023-07-01  28389.359\n",
       "147  2023-10-01  28740.732\n",
       "148  2024-01-01  29104.070\n",
       "\n",
       "[149 rows x 2 columns]"
      ]
     },
     "execution_count": 56,
     "metadata": {},
     "output_type": "execute_result"
    }
   ],
   "source": [
    "gdp"
   ]
  },
  {
   "cell_type": "code",
   "execution_count": 84,
   "id": "df0a9db3-c2f4-419e-81be-450167a91a97",
   "metadata": {},
   "outputs": [
    {
     "name": "stdout",
     "output_type": "stream",
     "text": [
      "          date         value\n",
      "0   1987-01-01   4863.390000\n",
      "1   1987-02-01   4893.305667\n",
      "2   1987-03-01   4923.221333\n",
      "3   1987-04-01   4953.137000\n",
      "4   1987-05-01   4978.764333\n",
      "..         ...           ...\n",
      "442 2023-11-01  28861.844667\n",
      "443 2023-12-01  28982.957333\n",
      "444 2024-01-01  29104.070000\n",
      "445 2024-02-01  29234.510000\n",
      "446 2024-03-01  29365.950000\n",
      "\n",
      "[447 rows x 2 columns]\n"
     ]
    }
   ],
   "source": [
    "# gdp['date'] = pd.to_datetime(gdp['date'], format='%Y-%m-%d')\n",
    "df = gdp.copy()\n",
    "df['date'] = pd.to_datetime(df['date'])\n",
    "df.set_index('date', inplace=True)\n",
    "\n",
    "date_range = pd.date_range(start=df.index.min(), end=df.index.max(), freq='MS')\n",
    "\n",
    "df = df.reindex(date_range)\n",
    "\n",
    "df.reset_index(inplace=True)\n",
    "df.rename(columns={'index': 'date'}, inplace=True)\n",
    "\n",
    "df['value'] = df['value'].interpolate(method='linear')\n",
    "\n",
    "# With simple linear extrapolation, I have calculated 2 more gdp values for two more months  :\n",
    "# 445 2024-02-01  29234.510000\n",
    "# 446 2024-03-01  29365.950000\n",
    "\n",
    "new_data = pd.DataFrame({\n",
    "    'value': [29234.51, 29365.95],\n",
    "    'date': ['2024-02-01','2024-03-01']\n",
    "}, index=[445,446])\n",
    "new_data['date'] = pd.to_datetime(new_data['date'], format='%Y-%m-%d')\n",
    "\n",
    "df = pd.concat([df, new_data])\n",
    "\n",
    "print(df)"
   ]
  },
  {
   "cell_type": "code",
   "execution_count": 85,
   "id": "d73232f8-8ebc-43a1-b97e-b8bfcf04db20",
   "metadata": {},
   "outputs": [
    {
     "data": {
      "image/png": "[encoded data removed]",
      "text/plain": [
       "<Figure size 640x480 with 1 Axes>"
      ]
     },
     "metadata": {},
     "output_type": "display_data"
    },
    {
     "data": {
      "image/png": "[encoded data removed]",
      "text/plain": [
       "<Figure size 640x480 with 1 Axes>"
      ]
     },
     "metadata": {},
     "output_type": "display_data"
    }
   ],
   "source": [
    "import matplotlib.pyplot as plt\n",
    "\n",
    "plt.plot(gdp.date, gdp.value)\n",
    "plt.xlabel('Date')\n",
    "plt.ylabel('Value')\n",
    "plt.title('Line Plot of GDP Before handling missing data')\n",
    "plt.show()\n",
    "\n",
    "plt.plot(df.date, df.value)\n",
    "plt.xlabel('Date')\n",
    "plt.ylabel('Value')\n",
    "plt.title('Line Plot of GDP after handling missing data')\n",
    "plt.show()\n",
    "\n"
   ]
  },
  {
   "cell_type": "markdown",
   "id": "da0dbb4b-18dc-4116-8e04-a6c6df539c9f",
   "metadata": {},
   "source": [
    "Literally can spot no difference ! GDP has been handled. Onto meho, mort15, mort30 now."
   ]
  },
  {
   "cell_type": "code",
   "execution_count": 86,
   "id": "89b36969-b606-411a-ab0d-b734590fa7f9",
   "metadata": {},
   "outputs": [
    {
     "data": {
      "text/plain": [
       "Timestamp('1987-01-01 00:00:00')"
      ]
     },
     "execution_count": 86,
     "metadata": {},
     "output_type": "execute_result"
    }
   ],
   "source": [
    "meho.date.min()"
   ]
  },
  {
   "cell_type": "code",
   "execution_count": 88,
   "id": "43d4f5bb-89ce-4d80-a685-8e788159f656",
   "metadata": {},
   "outputs": [
    {
     "data": {
      "text/plain": [
       "Timestamp('2022-01-01 00:00:00')"
      ]
     },
     "execution_count": 88,
     "metadata": {},
     "output_type": "execute_result"
    }
   ],
   "source": [
    "meho.date.max()"
   ]
  },
  {
   "cell_type": "code",
   "execution_count": 89,
   "id": "23f9bad8-92ae-4dcd-9c3d-00be8ad65cca",
   "metadata": {},
   "outputs": [
    {
     "data": {
      "text/html": [
       "<div>\n",
       "<style scoped>\n",
       "    .dataframe tbody tr th:only-of-type {\n",
       "        vertical-align: middle;\n",
       "    }\n",
       "\n",
       "    .dataframe tbody tr th {\n",
       "        vertical-align: top;\n",
       "    }\n",
       "\n",
       "    .dataframe thead th {\n",
       "        text-align: right;\n",
       "    }\n",
       "</style>\n",
       "<table border=\"1\" class=\"dataframe\">\n",
       "  <thead>\n",
       "    <tr style=\"text-align: right;\">\n",
       "      <th></th>\n",
       "      <th>date</th>\n",
       "      <th>value</th>\n",
       "    </tr>\n",
       "  </thead>\n",
       "  <tbody>\n",
       "    <tr>\n",
       "      <th>0</th>\n",
       "      <td>1987-01-01</td>\n",
       "      <td>60760.0</td>\n",
       "    </tr>\n",
       "    <tr>\n",
       "      <th>1</th>\n",
       "      <td>1988-01-01</td>\n",
       "      <td>61210.0</td>\n",
       "    </tr>\n",
       "    <tr>\n",
       "      <th>2</th>\n",
       "      <td>1989-01-01</td>\n",
       "      <td>62260.0</td>\n",
       "    </tr>\n",
       "    <tr>\n",
       "      <th>3</th>\n",
       "      <td>1990-01-01</td>\n",
       "      <td>61500.0</td>\n",
       "    </tr>\n",
       "    <tr>\n",
       "      <th>4</th>\n",
       "      <td>1991-01-01</td>\n",
       "      <td>59710.0</td>\n",
       "    </tr>\n",
       "    <tr>\n",
       "      <th>5</th>\n",
       "      <td>1992-01-01</td>\n",
       "      <td>59210.0</td>\n",
       "    </tr>\n",
       "    <tr>\n",
       "      <th>6</th>\n",
       "      <td>1993-01-01</td>\n",
       "      <td>58920.0</td>\n",
       "    </tr>\n",
       "    <tr>\n",
       "      <th>7</th>\n",
       "      <td>1994-01-01</td>\n",
       "      <td>59550.0</td>\n",
       "    </tr>\n",
       "    <tr>\n",
       "      <th>8</th>\n",
       "      <td>1995-01-01</td>\n",
       "      <td>61440.0</td>\n",
       "    </tr>\n",
       "    <tr>\n",
       "      <th>9</th>\n",
       "      <td>1996-01-01</td>\n",
       "      <td>62350.0</td>\n",
       "    </tr>\n",
       "    <tr>\n",
       "      <th>10</th>\n",
       "      <td>1997-01-01</td>\n",
       "      <td>63640.0</td>\n",
       "    </tr>\n",
       "    <tr>\n",
       "      <th>11</th>\n",
       "      <td>1998-01-01</td>\n",
       "      <td>65980.0</td>\n",
       "    </tr>\n",
       "    <tr>\n",
       "      <th>12</th>\n",
       "      <td>1999-01-01</td>\n",
       "      <td>67650.0</td>\n",
       "    </tr>\n",
       "    <tr>\n",
       "      <th>13</th>\n",
       "      <td>2000-01-01</td>\n",
       "      <td>67470.0</td>\n",
       "    </tr>\n",
       "    <tr>\n",
       "      <th>14</th>\n",
       "      <td>2001-01-01</td>\n",
       "      <td>66360.0</td>\n",
       "    </tr>\n",
       "    <tr>\n",
       "      <th>15</th>\n",
       "      <td>2002-01-01</td>\n",
       "      <td>65820.0</td>\n",
       "    </tr>\n",
       "    <tr>\n",
       "      <th>16</th>\n",
       "      <td>2003-01-01</td>\n",
       "      <td>65860.0</td>\n",
       "    </tr>\n",
       "    <tr>\n",
       "      <th>17</th>\n",
       "      <td>2004-01-01</td>\n",
       "      <td>65760.0</td>\n",
       "    </tr>\n",
       "    <tr>\n",
       "      <th>18</th>\n",
       "      <td>2005-01-01</td>\n",
       "      <td>66780.0</td>\n",
       "    </tr>\n",
       "    <tr>\n",
       "      <th>19</th>\n",
       "      <td>2006-01-01</td>\n",
       "      <td>67520.0</td>\n",
       "    </tr>\n",
       "    <tr>\n",
       "      <th>20</th>\n",
       "      <td>2007-01-01</td>\n",
       "      <td>68610.0</td>\n",
       "    </tr>\n",
       "    <tr>\n",
       "      <th>21</th>\n",
       "      <td>2008-01-01</td>\n",
       "      <td>66280.0</td>\n",
       "    </tr>\n",
       "    <tr>\n",
       "      <th>22</th>\n",
       "      <td>2009-01-01</td>\n",
       "      <td>65850.0</td>\n",
       "    </tr>\n",
       "    <tr>\n",
       "      <th>23</th>\n",
       "      <td>2010-01-01</td>\n",
       "      <td>64300.0</td>\n",
       "    </tr>\n",
       "    <tr>\n",
       "      <th>24</th>\n",
       "      <td>2011-01-01</td>\n",
       "      <td>63350.0</td>\n",
       "    </tr>\n",
       "    <tr>\n",
       "      <th>25</th>\n",
       "      <td>2012-01-01</td>\n",
       "      <td>63350.0</td>\n",
       "    </tr>\n",
       "    <tr>\n",
       "      <th>26</th>\n",
       "      <td>2013-01-01</td>\n",
       "      <td>65740.0</td>\n",
       "    </tr>\n",
       "    <tr>\n",
       "      <th>27</th>\n",
       "      <td>2014-01-01</td>\n",
       "      <td>64900.0</td>\n",
       "    </tr>\n",
       "    <tr>\n",
       "      <th>28</th>\n",
       "      <td>2015-01-01</td>\n",
       "      <td>68410.0</td>\n",
       "    </tr>\n",
       "    <tr>\n",
       "      <th>29</th>\n",
       "      <td>2016-01-01</td>\n",
       "      <td>70840.0</td>\n",
       "    </tr>\n",
       "    <tr>\n",
       "      <th>30</th>\n",
       "      <td>2017-01-01</td>\n",
       "      <td>72090.0</td>\n",
       "    </tr>\n",
       "    <tr>\n",
       "      <th>31</th>\n",
       "      <td>2018-01-01</td>\n",
       "      <td>73030.0</td>\n",
       "    </tr>\n",
       "    <tr>\n",
       "      <th>32</th>\n",
       "      <td>2019-01-01</td>\n",
       "      <td>78250.0</td>\n",
       "    </tr>\n",
       "    <tr>\n",
       "      <th>33</th>\n",
       "      <td>2020-01-01</td>\n",
       "      <td>76660.0</td>\n",
       "    </tr>\n",
       "    <tr>\n",
       "      <th>34</th>\n",
       "      <td>2021-01-01</td>\n",
       "      <td>76330.0</td>\n",
       "    </tr>\n",
       "    <tr>\n",
       "      <th>35</th>\n",
       "      <td>2022-01-01</td>\n",
       "      <td>74580.0</td>\n",
       "    </tr>\n",
       "  </tbody>\n",
       "</table>\n",
       "</div>"
      ],
      "text/plain": [
       "         date    value\n",
       "0  1987-01-01  60760.0\n",
       "1  1988-01-01  61210.0\n",
       "2  1989-01-01  62260.0\n",
       "3  1990-01-01  61500.0\n",
       "4  1991-01-01  59710.0\n",
       "5  1992-01-01  59210.0\n",
       "6  1993-01-01  58920.0\n",
       "7  1994-01-01  59550.0\n",
       "8  1995-01-01  61440.0\n",
       "9  1996-01-01  62350.0\n",
       "10 1997-01-01  63640.0\n",
       "11 1998-01-01  65980.0\n",
       "12 1999-01-01  67650.0\n",
       "13 2000-01-01  67470.0\n",
       "14 2001-01-01  66360.0\n",
       "15 2002-01-01  65820.0\n",
       "16 2003-01-01  65860.0\n",
       "17 2004-01-01  65760.0\n",
       "18 2005-01-01  66780.0\n",
       "19 2006-01-01  67520.0\n",
       "20 2007-01-01  68610.0\n",
       "21 2008-01-01  66280.0\n",
       "22 2009-01-01  65850.0\n",
       "23 2010-01-01  64300.0\n",
       "24 2011-01-01  63350.0\n",
       "25 2012-01-01  63350.0\n",
       "26 2013-01-01  65740.0\n",
       "27 2014-01-01  64900.0\n",
       "28 2015-01-01  68410.0\n",
       "29 2016-01-01  70840.0\n",
       "30 2017-01-01  72090.0\n",
       "31 2018-01-01  73030.0\n",
       "32 2019-01-01  78250.0\n",
       "33 2020-01-01  76660.0\n",
       "34 2021-01-01  76330.0\n",
       "35 2022-01-01  74580.0"
      ]
     },
     "execution_count": 89,
     "metadata": {},
     "output_type": "execute_result"
    }
   ],
   "source": [
    "meho"
   ]
  },
  {
   "cell_type": "markdown",
   "id": "f2f40fe1-6363-4035-93b7-bdcd689e0b4a",
   "metadata": {},
   "source": [
    "We have only one median income value per year."
   ]
  },
  {
   "cell_type": "code",
   "execution_count": 104,
   "id": "3e2d021c-06a8-4101-924c-142055c25938",
   "metadata": {},
   "outputs": [
    {
     "data": {
      "image/png": "[encoded data removed]",
      "text/plain": [
       "<Figure size 640x480 with 1 Axes>"
      ]
     },
     "metadata": {},
     "output_type": "display_data"
    }
   ],
   "source": [
    "meho['value'].plot(title='Income Data Over Time (before handling)')\n",
    "plt.show()"
   ]
  },
  {
   "cell_type": "code",
   "execution_count": 102,
   "id": "cbe2b55c-c3ec-4b0d-80ba-9f4af14a5e5b",
   "metadata": {},
   "outputs": [
    {
     "data": {
      "text/plain": [
       "Index(['date', 'value'], dtype='object')"
      ]
     },
     "execution_count": 102,
     "metadata": {},
     "output_type": "execute_result"
    }
   ],
   "source": [
    "meho.columns"
   ]
  },
  {
   "cell_type": "code",
   "execution_count": 103,
   "id": "67e59a40-be2a-45f2-8766-047ea4b22f9e",
   "metadata": {},
   "outputs": [
    {
     "name": "stdout",
     "output_type": "stream",
     "text": [
      "                   value\n",
      "date                    \n",
      "1987-01-31  60760.000000\n",
      "1987-02-28  60797.500000\n",
      "1987-03-31  60835.000000\n",
      "1987-04-30  60872.500000\n",
      "1987-05-31  60910.000000\n",
      "...                  ...\n",
      "2021-09-30  75163.333333\n",
      "2021-10-31  75017.500000\n",
      "2021-11-30  74871.666667\n",
      "2021-12-31  74725.833333\n",
      "2022-01-31  74580.000000\n",
      "\n",
      "[421 rows x 1 columns]\n"
     ]
    }
   ],
   "source": [
    "meho['date'] = pd.to_datetime(meho['date'])\n",
    "meho.reset_index(drop=True, inplace=True)\n",
    "meho.set_index('date', inplace=True)\n",
    "meho_resampled = meho.resample('M').mean()\n",
    "meho_interpolated = meho_resampled.interpolate(method='linear')\n",
    "print(meho_interpolated)"
   ]
  },
  {
   "cell_type": "code",
   "execution_count": 105,
   "id": "bfb529b6-18b0-4636-8509-0cd4cf7c46af",
   "metadata": {},
   "outputs": [
    {
     "data": {
      "image/png": "[encoded data removed]",
      "text/plain": [
       "<Figure size 640x480 with 1 Axes>"
      ]
     },
     "metadata": {},
     "output_type": "display_data"
    }
   ],
   "source": [
    "meho['value'].plot(title='Income Data Over Time after handling')\n",
    "plt.show()"
   ]
  },
  {
   "cell_type": "markdown",
   "id": "9ccce911-d574-4428-b170-c6be13b2ec7a",
   "metadata": {},
   "source": [
    "Median Income is also handled. Now need to handle Mortgage interest rates"
   ]
  },
  {
   "cell_type": "code",
   "execution_count": 107,
   "id": "a165ab3f-1db4-4086-a556-b1bdf14522d3",
   "metadata": {},
   "outputs": [
    {
     "data": {
      "text/plain": [
       "(1697, 2)"
      ]
     },
     "execution_count": 107,
     "metadata": {},
     "output_type": "execute_result"
    }
   ],
   "source": [
    "mort15_dup = mort15.copy()\n",
    "mort30_dup = mort30.copy()\n",
    "\n",
    "mort15.shape"
   ]
  },
  {
   "cell_type": "code",
   "execution_count": 108,
   "id": "59b2e30b-ed0b-4d14-8201-ef567d309e21",
   "metadata": {},
   "outputs": [
    {
     "data": {
      "text/plain": [
       "(1940, 2)"
      ]
     },
     "execution_count": 108,
     "metadata": {},
     "output_type": "execute_result"
    }
   ],
   "source": [
    "mort30.shape"
   ]
  },
  {
   "cell_type": "code",
   "execution_count": 109,
   "id": "a9d1a872-7a25-4393-a6ec-f52dc4e1bb30",
   "metadata": {},
   "outputs": [
    {
     "data": {
      "text/plain": [
       "Timestamp('1991-08-30 00:00:00')"
      ]
     },
     "execution_count": 109,
     "metadata": {},
     "output_type": "execute_result"
    }
   ],
   "source": [
    "mort15_dup.date.min()"
   ]
  },
  {
   "cell_type": "code",
   "execution_count": 110,
   "id": "5aff19c2-e05c-4245-8c57-d8ea5d69aa09",
   "metadata": {},
   "outputs": [
    {
     "data": {
      "text/plain": [
       "Timestamp('2024-02-29 00:00:00')"
      ]
     },
     "execution_count": 110,
     "metadata": {},
     "output_type": "execute_result"
    }
   ],
   "source": [
    "mort15_dup.date.max()"
   ]
  },
  {
   "cell_type": "code",
   "execution_count": 111,
   "id": "a4fcbf26-493e-4c1d-a3ad-916d72fca3ac",
   "metadata": {},
   "outputs": [
    {
     "data": {
      "text/html": [
       "<div>\n",
       "<style scoped>\n",
       "    .dataframe tbody tr th:only-of-type {\n",
       "        vertical-align: middle;\n",
       "    }\n",
       "\n",
       "    .dataframe tbody tr th {\n",
       "        vertical-align: top;\n",
       "    }\n",
       "\n",
       "    .dataframe thead th {\n",
       "        text-align: right;\n",
       "    }\n",
       "</style>\n",
       "<table border=\"1\" class=\"dataframe\">\n",
       "  <thead>\n",
       "    <tr style=\"text-align: right;\">\n",
       "      <th></th>\n",
       "      <th>date</th>\n",
       "      <th>value</th>\n",
       "    </tr>\n",
       "  </thead>\n",
       "  <tbody>\n",
       "    <tr>\n",
       "      <th>0</th>\n",
       "      <td>1991-08-30</td>\n",
       "      <td>8.77</td>\n",
       "    </tr>\n",
       "    <tr>\n",
       "      <th>1</th>\n",
       "      <td>1991-09-06</td>\n",
       "      <td>8.79</td>\n",
       "    </tr>\n",
       "    <tr>\n",
       "      <th>2</th>\n",
       "      <td>1991-09-13</td>\n",
       "      <td>8.68</td>\n",
       "    </tr>\n",
       "    <tr>\n",
       "      <th>3</th>\n",
       "      <td>1991-09-20</td>\n",
       "      <td>8.62</td>\n",
       "    </tr>\n",
       "    <tr>\n",
       "      <th>4</th>\n",
       "      <td>1991-09-27</td>\n",
       "      <td>8.59</td>\n",
       "    </tr>\n",
       "    <tr>\n",
       "      <th>...</th>\n",
       "      <td>...</td>\n",
       "      <td>...</td>\n",
       "    </tr>\n",
       "    <tr>\n",
       "      <th>1692</th>\n",
       "      <td>2024-02-01</td>\n",
       "      <td>5.94</td>\n",
       "    </tr>\n",
       "    <tr>\n",
       "      <th>1693</th>\n",
       "      <td>2024-02-08</td>\n",
       "      <td>5.90</td>\n",
       "    </tr>\n",
       "    <tr>\n",
       "      <th>1694</th>\n",
       "      <td>2024-02-15</td>\n",
       "      <td>6.12</td>\n",
       "    </tr>\n",
       "    <tr>\n",
       "      <th>1695</th>\n",
       "      <td>2024-02-22</td>\n",
       "      <td>6.29</td>\n",
       "    </tr>\n",
       "    <tr>\n",
       "      <th>1696</th>\n",
       "      <td>2024-02-29</td>\n",
       "      <td>6.26</td>\n",
       "    </tr>\n",
       "  </tbody>\n",
       "</table>\n",
       "<p>1697 rows × 2 columns</p>\n",
       "</div>"
      ],
      "text/plain": [
       "           date  value\n",
       "0    1991-08-30   8.77\n",
       "1    1991-09-06   8.79\n",
       "2    1991-09-13   8.68\n",
       "3    1991-09-20   8.62\n",
       "4    1991-09-27   8.59\n",
       "...         ...    ...\n",
       "1692 2024-02-01   5.94\n",
       "1693 2024-02-08   5.90\n",
       "1694 2024-02-15   6.12\n",
       "1695 2024-02-22   6.29\n",
       "1696 2024-02-29   6.26\n",
       "\n",
       "[1697 rows x 2 columns]"
      ]
     },
     "execution_count": 111,
     "metadata": {},
     "output_type": "execute_result"
    }
   ],
   "source": [
    "mort15_dup"
   ]
  },
  {
   "cell_type": "code",
   "execution_count": 113,
   "id": "236de3d8-f111-4855-bfef-bfec1d2d6787",
   "metadata": {},
   "outputs": [
    {
     "data": {
      "image/png": "[encoded data removed]",
      "text/plain": [
       "<Figure size 640x480 with 1 Axes>"
      ]
     },
     "metadata": {},
     "output_type": "display_data"
    }
   ],
   "source": [
    "plt.plot(mort15_dup.date, mort15_dup.value)\n",
    "plt.xlabel('Date')\n",
    "plt.ylabel('Value')\n",
    "plt.title('15 Years fixed mortgage Before handling missing data')\n",
    "plt.show()"
   ]
  },
  {
   "cell_type": "markdown",
   "id": "21ef3d35-4d53-48a8-aa80-3f6ba91974d9",
   "metadata": {},
   "source": [
    "Scaling down 1900+ data points to some 500 doesn't sound like a good Idea, so let us not use mortgage interest rates and I have found a new key factor based on PERMIT : \"Number of new housing units authorized by building permits.\"\n"
   ]
  },
  {
   "cell_type": "code",
   "execution_count": 115,
   "id": "a47e65d2-3667-4be7-8ae3-ec2e3792cf06",
   "metadata": {},
   "outputs": [
    {
     "ename": "FileNotFoundError",
     "evalue": "[Errno 2] No such file or directory: 'PERMIT.csv'",
     "output_type": "error",
     "traceback": [
      "\u001b[1;31m---------------------------------------------------------------------------\u001b[0m",
      "\u001b[1;31mFileNotFoundError\u001b[0m                         Traceback (most recent call last)",
      "Cell \u001b[1;32mIn[115], line 1\u001b[0m\n\u001b[1;32m----> 1\u001b[0m permit \u001b[38;5;241m=\u001b[39m \u001b[43mpd\u001b[49m\u001b[38;5;241;43m.\u001b[39;49m\u001b[43mread_csv\u001b[49m\u001b[43m(\u001b[49m\u001b[38;5;124;43m\"\u001b[39;49m\u001b[38;5;124;43mPERMIT.csv\u001b[39;49m\u001b[38;5;124;43m\"\u001b[39;49m\u001b[43m)\u001b[49m\n\u001b[0;32m      2\u001b[0m permit\n",
      "File \u001b[1;32mC:\\Python312\\Lib\\site-packages\\pandas\\io\\parsers\\readers.py:948\u001b[0m, in \u001b[0;36mread_csv\u001b[1;34m(filepath_or_buffer, sep, delimiter, header, names, index_col, usecols, dtype, engine, converters, true_values, false_values, skipinitialspace, skiprows, skipfooter, nrows, na_values, keep_default_na, na_filter, verbose, skip_blank_lines, parse_dates, infer_datetime_format, keep_date_col, date_parser, date_format, dayfirst, cache_dates, iterator, chunksize, compression, thousands, decimal, lineterminator, quotechar, quoting, doublequote, escapechar, comment, encoding, encoding_errors, dialect, on_bad_lines, delim_whitespace, low_memory, memory_map, float_precision, storage_options, dtype_backend)\u001b[0m\n\u001b[0;32m    935\u001b[0m kwds_defaults \u001b[38;5;241m=\u001b[39m _refine_defaults_read(\n\u001b[0;32m    936\u001b[0m     dialect,\n\u001b[0;32m    937\u001b[0m     delimiter,\n\u001b[1;32m   (...)\u001b[0m\n\u001b[0;32m    944\u001b[0m     dtype_backend\u001b[38;5;241m=\u001b[39mdtype_backend,\n\u001b[0;32m    945\u001b[0m )\n\u001b[0;32m    946\u001b[0m kwds\u001b[38;5;241m.\u001b[39mupdate(kwds_defaults)\n\u001b[1;32m--> 948\u001b[0m \u001b[38;5;28;01mreturn\u001b[39;00m \u001b[43m_read\u001b[49m\u001b[43m(\u001b[49m\u001b[43mfilepath_or_buffer\u001b[49m\u001b[43m,\u001b[49m\u001b[43m \u001b[49m\u001b[43mkwds\u001b[49m\u001b[43m)\u001b[49m\n",
      "File \u001b[1;32mC:\\Python312\\Lib\\site-packages\\pandas\\io\\parsers\\readers.py:611\u001b[0m, in \u001b[0;36m_read\u001b[1;34m(filepath_or_buffer, kwds)\u001b[0m\n\u001b[0;32m    608\u001b[0m _validate_names(kwds\u001b[38;5;241m.\u001b[39mget(\u001b[38;5;124m\"\u001b[39m\u001b[38;5;124mnames\u001b[39m\u001b[38;5;124m\"\u001b[39m, \u001b[38;5;28;01mNone\u001b[39;00m))\n\u001b[0;32m    610\u001b[0m \u001b[38;5;66;03m# Create the parser.\u001b[39;00m\n\u001b[1;32m--> 611\u001b[0m parser \u001b[38;5;241m=\u001b[39m \u001b[43mTextFileReader\u001b[49m\u001b[43m(\u001b[49m\u001b[43mfilepath_or_buffer\u001b[49m\u001b[43m,\u001b[49m\u001b[43m \u001b[49m\u001b[38;5;241;43m*\u001b[39;49m\u001b[38;5;241;43m*\u001b[39;49m\u001b[43mkwds\u001b[49m\u001b[43m)\u001b[49m\n\u001b[0;32m    613\u001b[0m \u001b[38;5;28;01mif\u001b[39;00m chunksize \u001b[38;5;129;01mor\u001b[39;00m iterator:\n\u001b[0;32m    614\u001b[0m     \u001b[38;5;28;01mreturn\u001b[39;00m parser\n",
      "File \u001b[1;32mC:\\Python312\\Lib\\site-packages\\pandas\\io\\parsers\\readers.py:1448\u001b[0m, in \u001b[0;36mTextFileReader.__init__\u001b[1;34m(self, f, engine, **kwds)\u001b[0m\n\u001b[0;32m   1445\u001b[0m     \u001b[38;5;28mself\u001b[39m\u001b[38;5;241m.\u001b[39moptions[\u001b[38;5;124m\"\u001b[39m\u001b[38;5;124mhas_index_names\u001b[39m\u001b[38;5;124m\"\u001b[39m] \u001b[38;5;241m=\u001b[39m kwds[\u001b[38;5;124m\"\u001b[39m\u001b[38;5;124mhas_index_names\u001b[39m\u001b[38;5;124m\"\u001b[39m]\n\u001b[0;32m   1447\u001b[0m \u001b[38;5;28mself\u001b[39m\u001b[38;5;241m.\u001b[39mhandles: IOHandles \u001b[38;5;241m|\u001b[39m \u001b[38;5;28;01mNone\u001b[39;00m \u001b[38;5;241m=\u001b[39m \u001b[38;5;28;01mNone\u001b[39;00m\n\u001b[1;32m-> 1448\u001b[0m \u001b[38;5;28mself\u001b[39m\u001b[38;5;241m.\u001b[39m_engine \u001b[38;5;241m=\u001b[39m \u001b[38;5;28;43mself\u001b[39;49m\u001b[38;5;241;43m.\u001b[39;49m\u001b[43m_make_engine\u001b[49m\u001b[43m(\u001b[49m\u001b[43mf\u001b[49m\u001b[43m,\u001b[49m\u001b[43m \u001b[49m\u001b[38;5;28;43mself\u001b[39;49m\u001b[38;5;241;43m.\u001b[39;49m\u001b[43mengine\u001b[49m\u001b[43m)\u001b[49m\n",
      "File \u001b[1;32mC:\\Python312\\Lib\\site-packages\\pandas\\io\\parsers\\readers.py:1705\u001b[0m, in \u001b[0;36mTextFileReader._make_engine\u001b[1;34m(self, f, engine)\u001b[0m\n\u001b[0;32m   1703\u001b[0m     \u001b[38;5;28;01mif\u001b[39;00m \u001b[38;5;124m\"\u001b[39m\u001b[38;5;124mb\u001b[39m\u001b[38;5;124m\"\u001b[39m \u001b[38;5;129;01mnot\u001b[39;00m \u001b[38;5;129;01min\u001b[39;00m mode:\n\u001b[0;32m   1704\u001b[0m         mode \u001b[38;5;241m+\u001b[39m\u001b[38;5;241m=\u001b[39m \u001b[38;5;124m\"\u001b[39m\u001b[38;5;124mb\u001b[39m\u001b[38;5;124m\"\u001b[39m\n\u001b[1;32m-> 1705\u001b[0m \u001b[38;5;28mself\u001b[39m\u001b[38;5;241m.\u001b[39mhandles \u001b[38;5;241m=\u001b[39m \u001b[43mget_handle\u001b[49m\u001b[43m(\u001b[49m\n\u001b[0;32m   1706\u001b[0m \u001b[43m    \u001b[49m\u001b[43mf\u001b[49m\u001b[43m,\u001b[49m\n\u001b[0;32m   1707\u001b[0m \u001b[43m    \u001b[49m\u001b[43mmode\u001b[49m\u001b[43m,\u001b[49m\n\u001b[0;32m   1708\u001b[0m \u001b[43m    \u001b[49m\u001b[43mencoding\u001b[49m\u001b[38;5;241;43m=\u001b[39;49m\u001b[38;5;28;43mself\u001b[39;49m\u001b[38;5;241;43m.\u001b[39;49m\u001b[43moptions\u001b[49m\u001b[38;5;241;43m.\u001b[39;49m\u001b[43mget\u001b[49m\u001b[43m(\u001b[49m\u001b[38;5;124;43m\"\u001b[39;49m\u001b[38;5;124;43mencoding\u001b[39;49m\u001b[38;5;124;43m\"\u001b[39;49m\u001b[43m,\u001b[49m\u001b[43m \u001b[49m\u001b[38;5;28;43;01mNone\u001b[39;49;00m\u001b[43m)\u001b[49m\u001b[43m,\u001b[49m\n\u001b[0;32m   1709\u001b[0m \u001b[43m    \u001b[49m\u001b[43mcompression\u001b[49m\u001b[38;5;241;43m=\u001b[39;49m\u001b[38;5;28;43mself\u001b[39;49m\u001b[38;5;241;43m.\u001b[39;49m\u001b[43moptions\u001b[49m\u001b[38;5;241;43m.\u001b[39;49m\u001b[43mget\u001b[49m\u001b[43m(\u001b[49m\u001b[38;5;124;43m\"\u001b[39;49m\u001b[38;5;124;43mcompression\u001b[39;49m\u001b[38;5;124;43m\"\u001b[39;49m\u001b[43m,\u001b[49m\u001b[43m \u001b[49m\u001b[38;5;28;43;01mNone\u001b[39;49;00m\u001b[43m)\u001b[49m\u001b[43m,\u001b[49m\n\u001b[0;32m   1710\u001b[0m \u001b[43m    \u001b[49m\u001b[43mmemory_map\u001b[49m\u001b[38;5;241;43m=\u001b[39;49m\u001b[38;5;28;43mself\u001b[39;49m\u001b[38;5;241;43m.\u001b[39;49m\u001b[43moptions\u001b[49m\u001b[38;5;241;43m.\u001b[39;49m\u001b[43mget\u001b[49m\u001b[43m(\u001b[49m\u001b[38;5;124;43m\"\u001b[39;49m\u001b[38;5;124;43mmemory_map\u001b[39;49m\u001b[38;5;124;43m\"\u001b[39;49m\u001b[43m,\u001b[49m\u001b[43m \u001b[49m\u001b[38;5;28;43;01mFalse\u001b[39;49;00m\u001b[43m)\u001b[49m\u001b[43m,\u001b[49m\n\u001b[0;32m   1711\u001b[0m \u001b[43m    \u001b[49m\u001b[43mis_text\u001b[49m\u001b[38;5;241;43m=\u001b[39;49m\u001b[43mis_text\u001b[49m\u001b[43m,\u001b[49m\n\u001b[0;32m   1712\u001b[0m \u001b[43m    \u001b[49m\u001b[43merrors\u001b[49m\u001b[38;5;241;43m=\u001b[39;49m\u001b[38;5;28;43mself\u001b[39;49m\u001b[38;5;241;43m.\u001b[39;49m\u001b[43moptions\u001b[49m\u001b[38;5;241;43m.\u001b[39;49m\u001b[43mget\u001b[49m\u001b[43m(\u001b[49m\u001b[38;5;124;43m\"\u001b[39;49m\u001b[38;5;124;43mencoding_errors\u001b[39;49m\u001b[38;5;124;43m\"\u001b[39;49m\u001b[43m,\u001b[49m\u001b[43m \u001b[49m\u001b[38;5;124;43m\"\u001b[39;49m\u001b[38;5;124;43mstrict\u001b[39;49m\u001b[38;5;124;43m\"\u001b[39;49m\u001b[43m)\u001b[49m\u001b[43m,\u001b[49m\n\u001b[0;32m   1713\u001b[0m \u001b[43m    \u001b[49m\u001b[43mstorage_options\u001b[49m\u001b[38;5;241;43m=\u001b[39;49m\u001b[38;5;28;43mself\u001b[39;49m\u001b[38;5;241;43m.\u001b[39;49m\u001b[43moptions\u001b[49m\u001b[38;5;241;43m.\u001b[39;49m\u001b[43mget\u001b[49m\u001b[43m(\u001b[49m\u001b[38;5;124;43m\"\u001b[39;49m\u001b[38;5;124;43mstorage_options\u001b[39;49m\u001b[38;5;124;43m\"\u001b[39;49m\u001b[43m,\u001b[49m\u001b[43m \u001b[49m\u001b[38;5;28;43;01mNone\u001b[39;49;00m\u001b[43m)\u001b[49m\u001b[43m,\u001b[49m\n\u001b[0;32m   1714\u001b[0m \u001b[43m\u001b[49m\u001b[43m)\u001b[49m\n\u001b[0;32m   1715\u001b[0m \u001b[38;5;28;01massert\u001b[39;00m \u001b[38;5;28mself\u001b[39m\u001b[38;5;241m.\u001b[39mhandles \u001b[38;5;129;01mis\u001b[39;00m \u001b[38;5;129;01mnot\u001b[39;00m \u001b[38;5;28;01mNone\u001b[39;00m\n\u001b[0;32m   1716\u001b[0m f \u001b[38;5;241m=\u001b[39m \u001b[38;5;28mself\u001b[39m\u001b[38;5;241m.\u001b[39mhandles\u001b[38;5;241m.\u001b[39mhandle\n",
      "File \u001b[1;32mC:\\Python312\\Lib\\site-packages\\pandas\\io\\common.py:863\u001b[0m, in \u001b[0;36mget_handle\u001b[1;34m(path_or_buf, mode, encoding, compression, memory_map, is_text, errors, storage_options)\u001b[0m\n\u001b[0;32m    858\u001b[0m \u001b[38;5;28;01melif\u001b[39;00m \u001b[38;5;28misinstance\u001b[39m(handle, \u001b[38;5;28mstr\u001b[39m):\n\u001b[0;32m    859\u001b[0m     \u001b[38;5;66;03m# Check whether the filename is to be opened in binary mode.\u001b[39;00m\n\u001b[0;32m    860\u001b[0m     \u001b[38;5;66;03m# Binary mode does not support 'encoding' and 'newline'.\u001b[39;00m\n\u001b[0;32m    861\u001b[0m     \u001b[38;5;28;01mif\u001b[39;00m ioargs\u001b[38;5;241m.\u001b[39mencoding \u001b[38;5;129;01mand\u001b[39;00m \u001b[38;5;124m\"\u001b[39m\u001b[38;5;124mb\u001b[39m\u001b[38;5;124m\"\u001b[39m \u001b[38;5;129;01mnot\u001b[39;00m \u001b[38;5;129;01min\u001b[39;00m ioargs\u001b[38;5;241m.\u001b[39mmode:\n\u001b[0;32m    862\u001b[0m         \u001b[38;5;66;03m# Encoding\u001b[39;00m\n\u001b[1;32m--> 863\u001b[0m         handle \u001b[38;5;241m=\u001b[39m \u001b[38;5;28;43mopen\u001b[39;49m\u001b[43m(\u001b[49m\n\u001b[0;32m    864\u001b[0m \u001b[43m            \u001b[49m\u001b[43mhandle\u001b[49m\u001b[43m,\u001b[49m\n\u001b[0;32m    865\u001b[0m \u001b[43m            \u001b[49m\u001b[43mioargs\u001b[49m\u001b[38;5;241;43m.\u001b[39;49m\u001b[43mmode\u001b[49m\u001b[43m,\u001b[49m\n\u001b[0;32m    866\u001b[0m \u001b[43m            \u001b[49m\u001b[43mencoding\u001b[49m\u001b[38;5;241;43m=\u001b[39;49m\u001b[43mioargs\u001b[49m\u001b[38;5;241;43m.\u001b[39;49m\u001b[43mencoding\u001b[49m\u001b[43m,\u001b[49m\n\u001b[0;32m    867\u001b[0m \u001b[43m            \u001b[49m\u001b[43merrors\u001b[49m\u001b[38;5;241;43m=\u001b[39;49m\u001b[43merrors\u001b[49m\u001b[43m,\u001b[49m\n\u001b[0;32m    868\u001b[0m \u001b[43m            \u001b[49m\u001b[43mnewline\u001b[49m\u001b[38;5;241;43m=\u001b[39;49m\u001b[38;5;124;43m\"\u001b[39;49m\u001b[38;5;124;43m\"\u001b[39;49m\u001b[43m,\u001b[49m\n\u001b[0;32m    869\u001b[0m \u001b[43m        \u001b[49m\u001b[43m)\u001b[49m\n\u001b[0;32m    870\u001b[0m     \u001b[38;5;28;01melse\u001b[39;00m:\n\u001b[0;32m    871\u001b[0m         \u001b[38;5;66;03m# Binary mode\u001b[39;00m\n\u001b[0;32m    872\u001b[0m         handle \u001b[38;5;241m=\u001b[39m \u001b[38;5;28mopen\u001b[39m(handle, ioargs\u001b[38;5;241m.\u001b[39mmode)\n",
      "\u001b[1;31mFileNotFoundError\u001b[0m: [Errno 2] No such file or directory: 'PERMIT.csv'"
     ]
    }
   ],
   "source": [
    "permit = pd.read_csv(\"PERMIT.csv\")\n",
    "permit"
   ]
  },
  {
   "cell_type": "code",
   "execution_count": null,
   "id": "9100fe0b-6849-46b0-bf86-25a9d3cfa276",
   "metadata": {},
   "outputs": [],
   "source": []
  }
 ],
 "metadata": {
  "kernelspec": {
   "display_name": "Python 3 (ipykernel)",
   "language": "python",
   "name": "python3"
  },
  "language_info": {
   "codemirror_mode": {
    "name": "ipython",
    "version": 3
   },
   "file_extension": ".py",
   "mimetype": "text/x-python",
   "name": "python",
   "nbconvert_exporter": "python",
   "pygments_lexer": "ipython3",
   "version": "3.12.3"
  }
 },
 "nbformat": 4,
 "nbformat_minor": 5
}
