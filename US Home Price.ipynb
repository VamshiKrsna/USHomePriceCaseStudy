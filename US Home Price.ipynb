{
 "cells": [
  {
   "cell_type": "markdown",
   "id": "ccd90926-001c-42bf-87b9-b9ceece2ca77",
   "metadata": {},
   "source": [
    "# US Home Price casestudy"
   ]
  },
  {
   "cell_type": "markdown",
   "id": "ea996cf4-66d0-477a-b2e2-927e19066002",
   "metadata": {},
   "source": [
    "This Notebook contains a casestudy on US Home Prices and key factors that influence home prices.\n",
    "\n",
    "\n",
    "we will be collecting publicly available data, clean the data, build a final dataset, perform EDA & Data Visualization and finally build a data science model"
   ]
  },
  {
   "cell_type": "markdown",
   "id": "4c02fb45-b7bb-42f2-8d64-cce3269cd0cb",
   "metadata": {},
   "source": [
    "## 1. Data Collection\n",
    "\n",
    "\n",
    "* We will not be using ready made datasets from kaggle, but I have chosen FRED (Federal Reserve Economic Data) as a reliable public data source.\n",
    "* We will be using some key factors like GDP, Mortgage, Unemployment rate, Population growth etc to carry out case study and model building\n",
    "  "
   ]
  },
  {
   "cell_type": "code",
   "execution_count": 1,
   "id": "ed596675-f354-4706-b2a8-235fe4948f94",
   "metadata": {},
   "outputs": [],
   "source": [
    "# installing fred api : \n",
    "# !pip install fredapi"
   ]
  },
  {
   "cell_type": "code",
   "execution_count": 2,
   "id": "d90faf15-6f64-4cb2-ac53-4f2c6a0fcdd6",
   "metadata": {},
   "outputs": [],
   "source": [
    "# # Run It only once\n",
    "\n",
    "# import os\n",
    "# import pandas as pd\n",
    "# from fredapi import Fred\n",
    "# from dotenv import load_dotenv\n",
    "\n",
    "# load_dotenv()\n",
    "# FRED_API_KEY = os.getenv(\"FRED_API_KEY\")\n",
    "\n",
    "# fred = Fred(api_key=FRED_API_KEY)\n",
    "\n",
    "# data_dir = \"data\"\n",
    "# if not os.path.exists(data_dir):\n",
    "#     os.makedirs(data_dir)\n",
    "\n",
    "# series_list = [\n",
    "#     \"CPIAUCSL\",  # Consumer Price Index for All Urban Consumers: Seasonally Adjusted (CPI-U)\n",
    "#     \"CSUSHPISA\",  # S&P Case-Shiller US National Home Price Index\n",
    "#     \"FEDFUNDS\",  # Effective Federal Funds Rate\n",
    "#     \"GDB\",  # Gross Domestic Product\n",
    "#     \"HOUST\",  # Housing Starts\n",
    "#     \"MCOILWTICO\",  # Crude Oil Prices (West Texas)\n",
    "#     \"MEHOINUSA672N\",  # Median Household Income\n",
    "#     \"POP\",  # Population in the US\n",
    "#     \"UNRATE\"  # Unemployment Rate\n",
    "# ]\n",
    "\n",
    "# # I have included more explanation about above features in descriptions.txt\n",
    "\n",
    "# for series in series_list:\n",
    "#     data = fred.get_series(series)\n",
    "#     df = data.reset_index()\n",
    "#     df.columns = [\"date\", \"value\"]  \n",
    "#     df.to_csv(os.path.join(data_dir,\"f{series}.csv\"), index=False)\n",
    "#     print(f\"Saved {series} to {data_dir}/{series}.csv\")\n",
    "#     print(df.head())  "
   ]
  },
  {
   "cell_type": "markdown",
   "id": "db66bdc2-9564-4a29-89f8-8c4b10b9af4b",
   "metadata": {},
   "source": [
    "Now we have data of required key factors. I have thought of other more key factors like crime rate, etc. but to reduce the complexity of understanding and to keep it simple, we will be continuing with these factors only.\n",
    "\n",
    "\n",
    "We have total of 10 key features and 1 target feature (CSUSHPISA as the proxy for home price indication) "
   ]
  },
  {
   "cell_type": "markdown",
   "id": "9710f9cf-cc09-4ff4-b58e-7710512e6c98",
   "metadata": {},
   "source": [
    "## 2. Data Cleaning\n",
    "\n",
    "In this section, we will be finalizing on how many years of data should we use to build the final dataset. and if there are any null values in the dataset, we will fill them or remove them."
   ]
  },
  {
   "cell_type": "code",
   "execution_count": 50,
   "id": "39db0d35-7494-4bec-95db-7edd05312ebe",
   "metadata": {},
   "outputs": [
    {
     "name": "stdout",
     "output_type": "stream",
     "text": [
      "         date  value\n",
      "0  1947-01-01  21.48\n",
      "1  1947-02-01  21.62\n",
      "2  1947-03-01  22.00\n",
      "3  1947-04-01  22.00\n",
      "4  1947-05-01  21.95\n",
      "         date  value\n",
      "0  1975-01-01    NaN\n",
      "1  1975-02-01    NaN\n",
      "2  1975-03-01    NaN\n",
      "3  1975-04-01    NaN\n",
      "4  1975-05-01    NaN\n",
      "         date  value\n",
      "0  1954-07-01   0.80\n",
      "1  1954-08-01   1.22\n",
      "2  1954-09-01   1.07\n",
      "3  1954-10-01   0.85\n",
      "4  1954-11-01   0.83\n",
      "         date    value\n",
      "0  1946-01-01      NaN\n",
      "1  1946-04-01      NaN\n",
      "2  1946-07-01      NaN\n",
      "3  1946-10-01      NaN\n",
      "4  1947-01-01  232.289\n",
      "         date   value\n",
      "0  1959-01-01  1657.0\n",
      "1  1959-02-01  1667.0\n",
      "2  1959-03-01  1620.0\n",
      "3  1959-04-01  1590.0\n",
      "4  1959-05-01  1498.0\n",
      "         date  value\n",
      "0  1986-01-01  22.93\n",
      "1  1986-02-01  15.46\n",
      "2  1986-03-01  12.61\n",
      "3  1986-04-01  12.84\n",
      "4  1986-05-01  15.38\n",
      "         date    value\n",
      "0  1984-01-01  56780.0\n",
      "1  1985-01-01  57860.0\n",
      "2  1986-01-01  60010.0\n",
      "3  1987-01-01  60760.0\n",
      "4  1988-01-01  61210.0\n",
      "         date     value\n",
      "0  1952-01-01  156309.0\n",
      "1  1952-02-01  156527.0\n",
      "2  1952-03-01  156731.0\n",
      "3  1952-04-01  156943.0\n",
      "4  1952-05-01  157140.0\n",
      "         date  value\n",
      "0  1948-01-01    3.4\n",
      "1  1948-02-01    3.8\n",
      "2  1948-03-01    4.0\n",
      "3  1948-04-01    3.9\n",
      "4  1948-05-01    3.5\n",
      "         date   value\n",
      "0  1987-01-01  1690.0\n",
      "1  1987-02-01  1689.0\n",
      "2  1987-03-01  1704.0\n",
      "3  1987-04-01  1601.0\n",
      "4  1987-05-01  1500.0\n"
     ]
    }
   ],
   "source": [
    "import numpy as np\n",
    "import pandas as pd\n",
    "import os\n",
    "\n",
    "cwd = os.getcwd()\n",
    "\n",
    "data_dir = os.path.join(cwd, \"data\")\n",
    "\n",
    "cpi = pd.read_csv(os.path.join(data_dir, \"CPIAUCSL.csv\"))\n",
    "csus = pd.read_csv(os.path.join(data_dir, \"CSUSHPISA.csv\"))\n",
    "fedfunds = pd.read_csv(os.path.join(data_dir, \"FEDFUNDS.csv\"))\n",
    "gdp = pd.read_csv(os.path.join(data_dir, \"GDB.csv\"))\n",
    "houst = pd.read_csv(os.path.join(data_dir, \"HOUST.csv\"))\n",
    "mcoil = pd.read_csv(os.path.join(data_dir, \"MCOILWTICO.csv\"))\n",
    "meho = pd.read_csv(os.path.join(data_dir, \"MEHOINUSA672N.csv\"))\n",
    "# mort15 = pd.read_csv(os.path.join(data_dir, \"MORTGAGE15US.csv\"))\n",
    "# mort30 = pd.read_csv(os.path.join(data_dir, \"MORTGAGE30US.csv\"))\n",
    "pop = pd.read_csv(os.path.join(data_dir, \"POP.csv\"))\n",
    "unrate = pd.read_csv(os.path.join(data_dir, \"UNRATE.csv\"))\n",
    "permit = pd.read_csv(os.path.join(data_dir, \"PERMIT.csv\"))\n",
    "\n",
    "\n",
    "print(cpi.head())\n",
    "print(csus.head())\n",
    "print(fedfunds.head())\n",
    "print(gdp.head())\n",
    "print(houst.head())\n",
    "print(mcoil.head())\n",
    "print(meho.head())\n",
    "# print(mort15.head())\n",
    "# print(mort30.head())\n",
    "print(pop.head())\n",
    "print(unrate.head())\n",
    "print(permit.head())"
   ]
  },
  {
   "cell_type": "code",
   "execution_count": 51,
   "id": "fbd5afb2-357a-4bb4-adc4-15341574bae6",
   "metadata": {},
   "outputs": [
    {
     "data": {
      "text/plain": [
       "<Axes: >"
      ]
     },
     "execution_count": 51,
     "metadata": {},
     "output_type": "execute_result"
    },
    {
     "data": {
      "image/png": "[encoded data removed]",
      "text/plain": [
       "<Figure size 2500x1000 with 2 Axes>"
      ]
     },
     "metadata": {},
     "output_type": "display_data"
    }
   ],
   "source": [
    "import missingno as mno\n",
    "\n",
    "mno.matrix(csus)"
   ]
  },
  {
   "cell_type": "markdown",
   "id": "32d5ece9-48a6-4914-a20c-762aa02b10ac",
   "metadata": {},
   "source": [
    "We can see that in CSUSHPISA Data, we have some values missing. as this is our target feature, we will only continue with a range of available values."
   ]
  },
  {
   "cell_type": "code",
   "execution_count": 52,
   "id": "e024b572-0619-4956-a225-236c9fa97c5f",
   "metadata": {},
   "outputs": [
    {
     "name": "stdout",
     "output_type": "stream",
     "text": [
      "Missing years: [1975 1976 1977 1978 1979 1980 1981 1982 1983 1984 1985 1986]\n"
     ]
    }
   ],
   "source": [
    "missing_years = csus[csus[\"value\"].isna()][\"date\"]\n",
    "missing_years = pd.to_datetime(missing_years).dt.year\n",
    "print(\"Missing years:\", missing_years.unique())"
   ]
  },
  {
   "cell_type": "markdown",
   "id": "665574ab-0fee-4595-9866-a026b67c3bf6",
   "metadata": {},
   "source": [
    "We are missing data from 1975 to 1986, still we have data from 1987 to 2024, which is good enough, i.e, almost 37 years"
   ]
  },
  {
   "cell_type": "code",
   "execution_count": 53,
   "id": "29b5e5e5-a69b-4dba-9b6c-94e48054e936",
   "metadata": {},
   "outputs": [
    {
     "data": {
      "text/html": [
       "<div>\n",
       "<style scoped>\n",
       "    .dataframe tbody tr th:only-of-type {\n",
       "        vertical-align: middle;\n",
       "    }\n",
       "\n",
       "    .dataframe tbody tr th {\n",
       "        vertical-align: top;\n",
       "    }\n",
       "\n",
       "    .dataframe thead th {\n",
       "        text-align: right;\n",
       "    }\n",
       "</style>\n",
       "<table border=\"1\" class=\"dataframe\">\n",
       "  <thead>\n",
       "    <tr style=\"text-align: right;\">\n",
       "      <th></th>\n",
       "      <th>date</th>\n",
       "      <th>value</th>\n",
       "    </tr>\n",
       "  </thead>\n",
       "  <tbody>\n",
       "    <tr>\n",
       "      <th>0</th>\n",
       "      <td>1987-01-01</td>\n",
       "      <td>63.965</td>\n",
       "    </tr>\n",
       "    <tr>\n",
       "      <th>1</th>\n",
       "      <td>1987-02-01</td>\n",
       "      <td>64.423</td>\n",
       "    </tr>\n",
       "    <tr>\n",
       "      <th>2</th>\n",
       "      <td>1987-03-01</td>\n",
       "      <td>64.735</td>\n",
       "    </tr>\n",
       "    <tr>\n",
       "      <th>3</th>\n",
       "      <td>1987-04-01</td>\n",
       "      <td>65.131</td>\n",
       "    </tr>\n",
       "    <tr>\n",
       "      <th>4</th>\n",
       "      <td>1987-05-01</td>\n",
       "      <td>65.563</td>\n",
       "    </tr>\n",
       "    <tr>\n",
       "      <th>...</th>\n",
       "      <td>...</td>\n",
       "      <td>...</td>\n",
       "    </tr>\n",
       "    <tr>\n",
       "      <th>443</th>\n",
       "      <td>2023-12-01</td>\n",
       "      <td>314.443</td>\n",
       "    </tr>\n",
       "    <tr>\n",
       "      <th>444</th>\n",
       "      <td>2024-01-01</td>\n",
       "      <td>315.728</td>\n",
       "    </tr>\n",
       "    <tr>\n",
       "      <th>445</th>\n",
       "      <td>2024-02-01</td>\n",
       "      <td>317.257</td>\n",
       "    </tr>\n",
       "    <tr>\n",
       "      <th>446</th>\n",
       "      <td>2024-03-01</td>\n",
       "      <td>318.217</td>\n",
       "    </tr>\n",
       "    <tr>\n",
       "      <th>447</th>\n",
       "      <td>2024-04-01</td>\n",
       "      <td>319.048</td>\n",
       "    </tr>\n",
       "  </tbody>\n",
       "</table>\n",
       "<p>448 rows × 2 columns</p>\n",
       "</div>"
      ],
      "text/plain": [
       "           date    value\n",
       "0    1987-01-01   63.965\n",
       "1    1987-02-01   64.423\n",
       "2    1987-03-01   64.735\n",
       "3    1987-04-01   65.131\n",
       "4    1987-05-01   65.563\n",
       "..          ...      ...\n",
       "443  2023-12-01  314.443\n",
       "444  2024-01-01  315.728\n",
       "445  2024-02-01  317.257\n",
       "446  2024-03-01  318.217\n",
       "447  2024-04-01  319.048\n",
       "\n",
       "[448 rows x 2 columns]"
      ]
     },
     "execution_count": 53,
     "metadata": {},
     "output_type": "execute_result"
    }
   ],
   "source": [
    "csus = csus.dropna()\n",
    "csus.reset_index(drop=True, inplace=True)\n",
    "csus"
   ]
  },
  {
   "cell_type": "code",
   "execution_count": 54,
   "id": "1e9700bc-3cb4-41f4-98b7-001d8f36a5fc",
   "metadata": {},
   "outputs": [
    {
     "data": {
      "text/plain": [
       "date     0\n",
       "value    0\n",
       "dtype: int64"
      ]
     },
     "execution_count": 54,
     "metadata": {},
     "output_type": "execute_result"
    }
   ],
   "source": [
    "csus.isnull().sum()"
   ]
  },
  {
   "cell_type": "markdown",
   "id": "721badfe-5925-4a6e-82e4-e8378f58b848",
   "metadata": {},
   "source": [
    "We are now left with 448 instances of data\n",
    "\n",
    "\n",
    "Now we will update all other dataframes to be in this date range only."
   ]
  },
  {
   "cell_type": "code",
   "execution_count": 55,
   "id": "9ef8a6b0-53cb-47e7-8c94-36e3c2a06264",
   "metadata": {},
   "outputs": [],
   "source": [
    "cpi = cpi[(cpi[\"date\"] >= \"1987-01-01\") & (cpi[\"date\"] <= \"2024-04-01\")]\n",
    "csus = csus[(csus[\"date\"] >= \"1987-01-01\") & (csus[\"date\"] <= \"2024-04-01\")]\n",
    "fedfunds = fedfunds[(fedfunds[\"date\"] >= \"1987-01-01\") & (fedfunds[\"date\"] <= \"2024-04-01\")]\n",
    "gdp = gdp[(gdp[\"date\"] >= \"1987-01-01\") & (gdp[\"date\"] <= \"2024-04-01\")]\n",
    "houst = houst[(houst[\"date\"] >= \"1987-01-01\") & (houst[\"date\"] <= \"2024-04-01\")]\n",
    "mcoil = mcoil[(mcoil[\"date\"] >= \"1987-01-01\") & (mcoil[\"date\"] <= \"2024-04-01\")]\n",
    "meho = meho[(meho[\"date\"] >= \"1987-01-01\") & (meho[\"date\"] <= \"2024-04-01\")]\n",
    "# mort15 = mort15[(mort15[date] >= 1987-01-01) & (mort15[date] <= 2024-03-01)]\n",
    "# mort30 = mort30[(mort30[date] >= 1987-01-01) & (mort30[date] <= 2024-03-01)]\n",
    "pop = pop[(pop[\"date\"] >= \"1987-01-01\") & (pop[\"date\"] <= \"2024-04-01\")]\n",
    "unrate = unrate[(unrate[\"date\"] >= \"1987-01-01\") & (unrate[\"date\"] <= \"2024-04-01\")]"
   ]
  },
  {
   "cell_type": "markdown",
   "id": "1e126144-1d1b-416b-a08f-048a9eb6a3e1",
   "metadata": {},
   "source": [
    "let us check whether all other dataframes have same number of values or not. and convert all the date time format of date to date only."
   ]
  },
  {
   "cell_type": "code",
   "execution_count": 56,
   "id": "4260d7d2-0f76-47b2-94b5-abef121547ee",
   "metadata": {},
   "outputs": [],
   "source": [
    "import warnings\n",
    "warnings.filterwarnings('ignore') "
   ]
  },
  {
   "cell_type": "code",
   "execution_count": 57,
   "id": "882a5719-31b5-4cec-b6e8-38a044f81fa2",
   "metadata": {},
   "outputs": [],
   "source": [
    "cpi[\"date\"] = pd.to_datetime(cpi[\"date\"], format=\"%Y-%m-%d\")\n",
    "csus[\"date\"] = pd.to_datetime(csus[\"date\"], format=\"%Y-%m-%d\")\n",
    "fedfunds[\"date\"] = pd.to_datetime(fedfunds[\"date\"], format=\"%Y-%m-%d\")\n",
    "gdp[\"date\"] = pd.to_datetime(gdp[\"date\"], format=\"%Y-%m-%d\")\n",
    "houst[\"date\"] = pd.to_datetime(houst[\"date\"], format=\"%Y-%m-%d\")\n",
    "mcoil[\"date\"] = pd.to_datetime(mcoil[\"date\"], format=\"%Y-%m-%d\")\n",
    "meho[\"date\"] = pd.to_datetime(meho[\"date\"], format=\"%Y-%m-%d\")\n",
    "# mort15[\"date\"] = pd.to_datetime(mort15[\"date\"], format=\"%Y-%m-%d\")\n",
    "# mort30[\"date\"] = pd.to_datetime(mort30[\"date\"], format=\"%Y-%m-%d\")\n",
    "pop[\"date\"] = pd.to_datetime(pop[\"date\"], format=\"%Y-%m-%d\")\n",
    "unrate[\"date\"] = pd.to_datetime(unrate[\"date\"], format=\"%Y-%m-%d\")"
   ]
  },
  {
   "cell_type": "code",
   "execution_count": 58,
   "id": "e8df918f-3a03-48fc-91b0-d45fadf45da9",
   "metadata": {},
   "outputs": [
    {
     "name": "stdout",
     "output_type": "stream",
     "text": [
      "(448, 2)\n",
      "(448, 2)\n",
      "(448, 2)\n",
      "(149, 2)\n",
      "(448, 2)\n",
      "(448, 2)\n",
      "(36, 2)\n",
      "(448, 2)\n",
      "(448, 2)\n"
     ]
    }
   ],
   "source": [
    "features = [csus,cpi,fedfunds,gdp,houst,mcoil,meho,pop,unrate]\n",
    "\n",
    "for feature in features:\n",
    "    feature.reset_index(drop=True, inplace=True)\n",
    "    print(f\"{feature.shape}\")"
   ]
  },
  {
   "cell_type": "markdown",
   "id": "b6d8f3f7-2306-483f-9c11-b73ef363ce16",
   "metadata": {},
   "source": [
    "We should be looking at gdp, meho, mort15,mort30 dataframes as they differ in our desired shape."
   ]
  },
  {
   "cell_type": "code",
   "execution_count": 59,
   "id": "ed9071a2-94be-4f0e-a8cf-96d0c7dde490",
   "metadata": {},
   "outputs": [
    {
     "data": {
      "text/html": [
       "<div>\n",
       "<style scoped>\n",
       "    .dataframe tbody tr th:only-of-type {\n",
       "        vertical-align: middle;\n",
       "    }\n",
       "\n",
       "    .dataframe tbody tr th {\n",
       "        vertical-align: top;\n",
       "    }\n",
       "\n",
       "    .dataframe thead th {\n",
       "        text-align: right;\n",
       "    }\n",
       "</style>\n",
       "<table border=\"1\" class=\"dataframe\">\n",
       "  <thead>\n",
       "    <tr style=\"text-align: right;\">\n",
       "      <th></th>\n",
       "      <th>date</th>\n",
       "      <th>value</th>\n",
       "    </tr>\n",
       "  </thead>\n",
       "  <tbody>\n",
       "    <tr>\n",
       "      <th>0</th>\n",
       "      <td>1987-01-01</td>\n",
       "      <td>4863.390</td>\n",
       "    </tr>\n",
       "    <tr>\n",
       "      <th>1</th>\n",
       "      <td>1987-04-01</td>\n",
       "      <td>4953.137</td>\n",
       "    </tr>\n",
       "    <tr>\n",
       "      <th>2</th>\n",
       "      <td>1987-07-01</td>\n",
       "      <td>5030.019</td>\n",
       "    </tr>\n",
       "    <tr>\n",
       "      <th>3</th>\n",
       "      <td>1987-10-01</td>\n",
       "      <td>5153.399</td>\n",
       "    </tr>\n",
       "    <tr>\n",
       "      <th>4</th>\n",
       "      <td>1988-01-01</td>\n",
       "      <td>5197.359</td>\n",
       "    </tr>\n",
       "  </tbody>\n",
       "</table>\n",
       "</div>"
      ],
      "text/plain": [
       "        date     value\n",
       "0 1987-01-01  4863.390\n",
       "1 1987-04-01  4953.137\n",
       "2 1987-07-01  5030.019\n",
       "3 1987-10-01  5153.399\n",
       "4 1988-01-01  5197.359"
      ]
     },
     "execution_count": 59,
     "metadata": {},
     "output_type": "execute_result"
    }
   ],
   "source": [
    "gdp.head() "
   ]
  },
  {
   "cell_type": "markdown",
   "id": "6e5c0c70-1e78-4a9e-8620-399d49f42e77",
   "metadata": {},
   "source": [
    "we can see that we have gdp once every three month (for every quarter), our strategy here is to take slope of first month and fourth month, impute it to the missing months."
   ]
  },
  {
   "cell_type": "code",
   "execution_count": 60,
   "id": "cd3308cf-9b99-4e6c-8fb5-56204bf52728",
   "metadata": {},
   "outputs": [
    {
     "data": {
      "text/html": [
       "<div>\n",
       "<style scoped>\n",
       "    .dataframe tbody tr th:only-of-type {\n",
       "        vertical-align: middle;\n",
       "    }\n",
       "\n",
       "    .dataframe tbody tr th {\n",
       "        vertical-align: top;\n",
       "    }\n",
       "\n",
       "    .dataframe thead th {\n",
       "        text-align: right;\n",
       "    }\n",
       "</style>\n",
       "<table border=\"1\" class=\"dataframe\">\n",
       "  <thead>\n",
       "    <tr style=\"text-align: right;\">\n",
       "      <th></th>\n",
       "      <th>date</th>\n",
       "      <th>value</th>\n",
       "    </tr>\n",
       "  </thead>\n",
       "  <tbody>\n",
       "    <tr>\n",
       "      <th>0</th>\n",
       "      <td>1987-01-01</td>\n",
       "      <td>4863.390</td>\n",
       "    </tr>\n",
       "    <tr>\n",
       "      <th>1</th>\n",
       "      <td>1987-04-01</td>\n",
       "      <td>4953.137</td>\n",
       "    </tr>\n",
       "    <tr>\n",
       "      <th>2</th>\n",
       "      <td>1987-07-01</td>\n",
       "      <td>5030.019</td>\n",
       "    </tr>\n",
       "    <tr>\n",
       "      <th>3</th>\n",
       "      <td>1987-10-01</td>\n",
       "      <td>5153.399</td>\n",
       "    </tr>\n",
       "    <tr>\n",
       "      <th>4</th>\n",
       "      <td>1988-01-01</td>\n",
       "      <td>5197.359</td>\n",
       "    </tr>\n",
       "    <tr>\n",
       "      <th>...</th>\n",
       "      <td>...</td>\n",
       "      <td>...</td>\n",
       "    </tr>\n",
       "    <tr>\n",
       "      <th>144</th>\n",
       "      <td>2023-01-01</td>\n",
       "      <td>27639.287</td>\n",
       "    </tr>\n",
       "    <tr>\n",
       "      <th>145</th>\n",
       "      <td>2023-04-01</td>\n",
       "      <td>27869.104</td>\n",
       "    </tr>\n",
       "    <tr>\n",
       "      <th>146</th>\n",
       "      <td>2023-07-01</td>\n",
       "      <td>28389.359</td>\n",
       "    </tr>\n",
       "    <tr>\n",
       "      <th>147</th>\n",
       "      <td>2023-10-01</td>\n",
       "      <td>28740.732</td>\n",
       "    </tr>\n",
       "    <tr>\n",
       "      <th>148</th>\n",
       "      <td>2024-01-01</td>\n",
       "      <td>29104.070</td>\n",
       "    </tr>\n",
       "  </tbody>\n",
       "</table>\n",
       "<p>149 rows × 2 columns</p>\n",
       "</div>"
      ],
      "text/plain": [
       "          date      value\n",
       "0   1987-01-01   4863.390\n",
       "1   1987-04-01   4953.137\n",
       "2   1987-07-01   5030.019\n",
       "3   1987-10-01   5153.399\n",
       "4   1988-01-01   5197.359\n",
       "..         ...        ...\n",
       "144 2023-01-01  27639.287\n",
       "145 2023-04-01  27869.104\n",
       "146 2023-07-01  28389.359\n",
       "147 2023-10-01  28740.732\n",
       "148 2024-01-01  29104.070\n",
       "\n",
       "[149 rows x 2 columns]"
      ]
     },
     "execution_count": 60,
     "metadata": {},
     "output_type": "execute_result"
    }
   ],
   "source": [
    "gdp"
   ]
  },
  {
   "cell_type": "code",
   "execution_count": 61,
   "id": "df0a9db3-c2f4-419e-81be-450167a91a97",
   "metadata": {},
   "outputs": [
    {
     "name": "stdout",
     "output_type": "stream",
     "text": [
      "          date         value\n",
      "0   1987-01-01   4863.390000\n",
      "1   1987-02-01   4893.305667\n",
      "2   1987-03-01   4923.221333\n",
      "3   1987-04-01   4953.137000\n",
      "4   1987-05-01   4978.764333\n",
      "..         ...           ...\n",
      "443 2023-12-01  28982.957333\n",
      "444 2024-01-01  29104.070000\n",
      "445 2024-02-01  29234.510000\n",
      "446 2024-03-01  29365.950000\n",
      "447 2024-04-01  29365.950000\n",
      "\n",
      "[448 rows x 2 columns]\n"
     ]
    }
   ],
   "source": [
    "# gdp[\"date\"] = pd.to_datetime(gdp[\"date\"], format=\"%Y-%m-%d\")\n",
    "df = gdp.copy()\n",
    "df[\"date\"] = pd.to_datetime(df[\"date\"])\n",
    "df.set_index(\"date\", inplace=True)\n",
    "\n",
    "date_range = pd.date_range(start=df.index.min(), end=df.index.max(), freq=\"MS\")\n",
    "\n",
    "df = df.reindex(date_range)\n",
    "\n",
    "df.reset_index(inplace=True)\n",
    "df.rename(columns={\"index\": \"date\"}, inplace=True)\n",
    "\n",
    "df[\"value\"] = df[\"value\"].interpolate(method=\"linear\")\n",
    "\n",
    "# With simple linear extrapolation, I have calculated 2 more gdp values for two more months  :\n",
    "# 445 2024-02-01  29234.510000\n",
    "# 446 2024-03-01  29365.950000\n",
    "\n",
    "new_data = pd.DataFrame({\n",
    "    \"value\": [29234.51, 29365.95, 29365.95],\n",
    "    \"date\": [\"2024-02-01\",\"2024-03-01\",\"2024-04-01\"]\n",
    "}, index=[445,446,447])\n",
    "new_data[\"date\"] = pd.to_datetime(new_data[\"date\"], format=\"%Y-%m-%d\")\n",
    "\n",
    "df = pd.concat([df, new_data])\n",
    "\n",
    "print(df)\n",
    "\n"
   ]
  },
  {
   "cell_type": "code",
   "execution_count": 62,
   "id": "d73232f8-8ebc-43a1-b97e-b8bfcf04db20",
   "metadata": {},
   "outputs": [
    {
     "data": {
      "image/png": "[encoded data removed]",
      "text/plain": [
       "<Figure size 640x480 with 1 Axes>"
      ]
     },
     "metadata": {},
     "output_type": "display_data"
    },
    {
     "data": {
      "image/png": "[encoded data removed]",
      "text/plain": [
       "<Figure size 640x480 with 1 Axes>"
      ]
     },
     "metadata": {},
     "output_type": "display_data"
    }
   ],
   "source": [
    "import matplotlib.pyplot as plt\n",
    "\n",
    "plt.plot(gdp.date, gdp.value)\n",
    "plt.xlabel(\"Date\")\n",
    "plt.ylabel(\"Value\")\n",
    "plt.title(\"Line Plot of GDP Before handling missing data\")\n",
    "plt.show()\n",
    "\n",
    "plt.plot(df.date, df.value)\n",
    "plt.xlabel(\"Date\")\n",
    "plt.ylabel(\"Value\")\n",
    "plt.title(\"Line Plot of GDP after handling missing data\")\n",
    "plt.show()\n",
    "\n"
   ]
  },
  {
   "cell_type": "code",
   "execution_count": 63,
   "id": "43ce4b06-9d03-4843-bdb3-2d0a352631a2",
   "metadata": {},
   "outputs": [
    {
     "data": {
      "text/html": [
       "<div>\n",
       "<style scoped>\n",
       "    .dataframe tbody tr th:only-of-type {\n",
       "        vertical-align: middle;\n",
       "    }\n",
       "\n",
       "    .dataframe tbody tr th {\n",
       "        vertical-align: top;\n",
       "    }\n",
       "\n",
       "    .dataframe thead th {\n",
       "        text-align: right;\n",
       "    }\n",
       "</style>\n",
       "<table border=\"1\" class=\"dataframe\">\n",
       "  <thead>\n",
       "    <tr style=\"text-align: right;\">\n",
       "      <th></th>\n",
       "      <th>date</th>\n",
       "      <th>value</th>\n",
       "    </tr>\n",
       "  </thead>\n",
       "  <tbody>\n",
       "    <tr>\n",
       "      <th>0</th>\n",
       "      <td>1987-01-01</td>\n",
       "      <td>4863.390000</td>\n",
       "    </tr>\n",
       "    <tr>\n",
       "      <th>1</th>\n",
       "      <td>1987-02-01</td>\n",
       "      <td>4893.305667</td>\n",
       "    </tr>\n",
       "    <tr>\n",
       "      <th>2</th>\n",
       "      <td>1987-03-01</td>\n",
       "      <td>4923.221333</td>\n",
       "    </tr>\n",
       "    <tr>\n",
       "      <th>3</th>\n",
       "      <td>1987-04-01</td>\n",
       "      <td>4953.137000</td>\n",
       "    </tr>\n",
       "    <tr>\n",
       "      <th>4</th>\n",
       "      <td>1987-05-01</td>\n",
       "      <td>4978.764333</td>\n",
       "    </tr>\n",
       "    <tr>\n",
       "      <th>...</th>\n",
       "      <td>...</td>\n",
       "      <td>...</td>\n",
       "    </tr>\n",
       "    <tr>\n",
       "      <th>443</th>\n",
       "      <td>2023-12-01</td>\n",
       "      <td>28982.957333</td>\n",
       "    </tr>\n",
       "    <tr>\n",
       "      <th>444</th>\n",
       "      <td>2024-01-01</td>\n",
       "      <td>29104.070000</td>\n",
       "    </tr>\n",
       "    <tr>\n",
       "      <th>445</th>\n",
       "      <td>2024-02-01</td>\n",
       "      <td>29234.510000</td>\n",
       "    </tr>\n",
       "    <tr>\n",
       "      <th>446</th>\n",
       "      <td>2024-03-01</td>\n",
       "      <td>29365.950000</td>\n",
       "    </tr>\n",
       "    <tr>\n",
       "      <th>447</th>\n",
       "      <td>2024-04-01</td>\n",
       "      <td>29365.950000</td>\n",
       "    </tr>\n",
       "  </tbody>\n",
       "</table>\n",
       "<p>448 rows × 2 columns</p>\n",
       "</div>"
      ],
      "text/plain": [
       "          date         value\n",
       "0   1987-01-01   4863.390000\n",
       "1   1987-02-01   4893.305667\n",
       "2   1987-03-01   4923.221333\n",
       "3   1987-04-01   4953.137000\n",
       "4   1987-05-01   4978.764333\n",
       "..         ...           ...\n",
       "443 2023-12-01  28982.957333\n",
       "444 2024-01-01  29104.070000\n",
       "445 2024-02-01  29234.510000\n",
       "446 2024-03-01  29365.950000\n",
       "447 2024-04-01  29365.950000\n",
       "\n",
       "[448 rows x 2 columns]"
      ]
     },
     "execution_count": 63,
     "metadata": {},
     "output_type": "execute_result"
    }
   ],
   "source": [
    "gdp = df.copy()\n",
    "gdp"
   ]
  },
  {
   "cell_type": "code",
   "execution_count": 64,
   "id": "602bc178-efd8-4312-be57-8d6f37641ff3",
   "metadata": {},
   "outputs": [
    {
     "data": {
      "text/plain": [
       "(448, 2)"
      ]
     },
     "execution_count": 64,
     "metadata": {},
     "output_type": "execute_result"
    }
   ],
   "source": [
    "gdp.shape"
   ]
  },
  {
   "cell_type": "markdown",
   "id": "da0dbb4b-18dc-4116-8e04-a6c6df539c9f",
   "metadata": {},
   "source": [
    "Literally can spot no difference ! GDP has been handled. Onto meho, mort15, mort30 now."
   ]
  },
  {
   "cell_type": "code",
   "execution_count": 65,
   "id": "89b36969-b606-411a-ab0d-b734590fa7f9",
   "metadata": {},
   "outputs": [
    {
     "data": {
      "text/plain": [
       "Timestamp('1987-01-01 00:00:00')"
      ]
     },
     "execution_count": 65,
     "metadata": {},
     "output_type": "execute_result"
    }
   ],
   "source": [
    "meho.date.min()"
   ]
  },
  {
   "cell_type": "code",
   "execution_count": 66,
   "id": "43d4f5bb-89ce-4d80-a685-8e788159f656",
   "metadata": {},
   "outputs": [
    {
     "data": {
      "text/plain": [
       "Timestamp('2022-01-01 00:00:00')"
      ]
     },
     "execution_count": 66,
     "metadata": {},
     "output_type": "execute_result"
    }
   ],
   "source": [
    "meho.date.max()"
   ]
  },
  {
   "cell_type": "code",
   "execution_count": 67,
   "id": "23f9bad8-92ae-4dcd-9c3d-00be8ad65cca",
   "metadata": {},
   "outputs": [
    {
     "data": {
      "text/html": [
       "<div>\n",
       "<style scoped>\n",
       "    .dataframe tbody tr th:only-of-type {\n",
       "        vertical-align: middle;\n",
       "    }\n",
       "\n",
       "    .dataframe tbody tr th {\n",
       "        vertical-align: top;\n",
       "    }\n",
       "\n",
       "    .dataframe thead th {\n",
       "        text-align: right;\n",
       "    }\n",
       "</style>\n",
       "<table border=\"1\" class=\"dataframe\">\n",
       "  <thead>\n",
       "    <tr style=\"text-align: right;\">\n",
       "      <th></th>\n",
       "      <th>date</th>\n",
       "      <th>value</th>\n",
       "    </tr>\n",
       "  </thead>\n",
       "  <tbody>\n",
       "    <tr>\n",
       "      <th>0</th>\n",
       "      <td>1987-01-01</td>\n",
       "      <td>60760.0</td>\n",
       "    </tr>\n",
       "    <tr>\n",
       "      <th>1</th>\n",
       "      <td>1988-01-01</td>\n",
       "      <td>61210.0</td>\n",
       "    </tr>\n",
       "    <tr>\n",
       "      <th>2</th>\n",
       "      <td>1989-01-01</td>\n",
       "      <td>62260.0</td>\n",
       "    </tr>\n",
       "    <tr>\n",
       "      <th>3</th>\n",
       "      <td>1990-01-01</td>\n",
       "      <td>61500.0</td>\n",
       "    </tr>\n",
       "    <tr>\n",
       "      <th>4</th>\n",
       "      <td>1991-01-01</td>\n",
       "      <td>59710.0</td>\n",
       "    </tr>\n",
       "    <tr>\n",
       "      <th>5</th>\n",
       "      <td>1992-01-01</td>\n",
       "      <td>59210.0</td>\n",
       "    </tr>\n",
       "    <tr>\n",
       "      <th>6</th>\n",
       "      <td>1993-01-01</td>\n",
       "      <td>58920.0</td>\n",
       "    </tr>\n",
       "    <tr>\n",
       "      <th>7</th>\n",
       "      <td>1994-01-01</td>\n",
       "      <td>59550.0</td>\n",
       "    </tr>\n",
       "    <tr>\n",
       "      <th>8</th>\n",
       "      <td>1995-01-01</td>\n",
       "      <td>61440.0</td>\n",
       "    </tr>\n",
       "    <tr>\n",
       "      <th>9</th>\n",
       "      <td>1996-01-01</td>\n",
       "      <td>62350.0</td>\n",
       "    </tr>\n",
       "    <tr>\n",
       "      <th>10</th>\n",
       "      <td>1997-01-01</td>\n",
       "      <td>63640.0</td>\n",
       "    </tr>\n",
       "    <tr>\n",
       "      <th>11</th>\n",
       "      <td>1998-01-01</td>\n",
       "      <td>65980.0</td>\n",
       "    </tr>\n",
       "    <tr>\n",
       "      <th>12</th>\n",
       "      <td>1999-01-01</td>\n",
       "      <td>67650.0</td>\n",
       "    </tr>\n",
       "    <tr>\n",
       "      <th>13</th>\n",
       "      <td>2000-01-01</td>\n",
       "      <td>67470.0</td>\n",
       "    </tr>\n",
       "    <tr>\n",
       "      <th>14</th>\n",
       "      <td>2001-01-01</td>\n",
       "      <td>66360.0</td>\n",
       "    </tr>\n",
       "    <tr>\n",
       "      <th>15</th>\n",
       "      <td>2002-01-01</td>\n",
       "      <td>65820.0</td>\n",
       "    </tr>\n",
       "    <tr>\n",
       "      <th>16</th>\n",
       "      <td>2003-01-01</td>\n",
       "      <td>65860.0</td>\n",
       "    </tr>\n",
       "    <tr>\n",
       "      <th>17</th>\n",
       "      <td>2004-01-01</td>\n",
       "      <td>65760.0</td>\n",
       "    </tr>\n",
       "    <tr>\n",
       "      <th>18</th>\n",
       "      <td>2005-01-01</td>\n",
       "      <td>66780.0</td>\n",
       "    </tr>\n",
       "    <tr>\n",
       "      <th>19</th>\n",
       "      <td>2006-01-01</td>\n",
       "      <td>67520.0</td>\n",
       "    </tr>\n",
       "    <tr>\n",
       "      <th>20</th>\n",
       "      <td>2007-01-01</td>\n",
       "      <td>68610.0</td>\n",
       "    </tr>\n",
       "    <tr>\n",
       "      <th>21</th>\n",
       "      <td>2008-01-01</td>\n",
       "      <td>66280.0</td>\n",
       "    </tr>\n",
       "    <tr>\n",
       "      <th>22</th>\n",
       "      <td>2009-01-01</td>\n",
       "      <td>65850.0</td>\n",
       "    </tr>\n",
       "    <tr>\n",
       "      <th>23</th>\n",
       "      <td>2010-01-01</td>\n",
       "      <td>64300.0</td>\n",
       "    </tr>\n",
       "    <tr>\n",
       "      <th>24</th>\n",
       "      <td>2011-01-01</td>\n",
       "      <td>63350.0</td>\n",
       "    </tr>\n",
       "    <tr>\n",
       "      <th>25</th>\n",
       "      <td>2012-01-01</td>\n",
       "      <td>63350.0</td>\n",
       "    </tr>\n",
       "    <tr>\n",
       "      <th>26</th>\n",
       "      <td>2013-01-01</td>\n",
       "      <td>65740.0</td>\n",
       "    </tr>\n",
       "    <tr>\n",
       "      <th>27</th>\n",
       "      <td>2014-01-01</td>\n",
       "      <td>64900.0</td>\n",
       "    </tr>\n",
       "    <tr>\n",
       "      <th>28</th>\n",
       "      <td>2015-01-01</td>\n",
       "      <td>68410.0</td>\n",
       "    </tr>\n",
       "    <tr>\n",
       "      <th>29</th>\n",
       "      <td>2016-01-01</td>\n",
       "      <td>70840.0</td>\n",
       "    </tr>\n",
       "    <tr>\n",
       "      <th>30</th>\n",
       "      <td>2017-01-01</td>\n",
       "      <td>72090.0</td>\n",
       "    </tr>\n",
       "    <tr>\n",
       "      <th>31</th>\n",
       "      <td>2018-01-01</td>\n",
       "      <td>73030.0</td>\n",
       "    </tr>\n",
       "    <tr>\n",
       "      <th>32</th>\n",
       "      <td>2019-01-01</td>\n",
       "      <td>78250.0</td>\n",
       "    </tr>\n",
       "    <tr>\n",
       "      <th>33</th>\n",
       "      <td>2020-01-01</td>\n",
       "      <td>76660.0</td>\n",
       "    </tr>\n",
       "    <tr>\n",
       "      <th>34</th>\n",
       "      <td>2021-01-01</td>\n",
       "      <td>76330.0</td>\n",
       "    </tr>\n",
       "    <tr>\n",
       "      <th>35</th>\n",
       "      <td>2022-01-01</td>\n",
       "      <td>74580.0</td>\n",
       "    </tr>\n",
       "  </tbody>\n",
       "</table>\n",
       "</div>"
      ],
      "text/plain": [
       "         date    value\n",
       "0  1987-01-01  60760.0\n",
       "1  1988-01-01  61210.0\n",
       "2  1989-01-01  62260.0\n",
       "3  1990-01-01  61500.0\n",
       "4  1991-01-01  59710.0\n",
       "5  1992-01-01  59210.0\n",
       "6  1993-01-01  58920.0\n",
       "7  1994-01-01  59550.0\n",
       "8  1995-01-01  61440.0\n",
       "9  1996-01-01  62350.0\n",
       "10 1997-01-01  63640.0\n",
       "11 1998-01-01  65980.0\n",
       "12 1999-01-01  67650.0\n",
       "13 2000-01-01  67470.0\n",
       "14 2001-01-01  66360.0\n",
       "15 2002-01-01  65820.0\n",
       "16 2003-01-01  65860.0\n",
       "17 2004-01-01  65760.0\n",
       "18 2005-01-01  66780.0\n",
       "19 2006-01-01  67520.0\n",
       "20 2007-01-01  68610.0\n",
       "21 2008-01-01  66280.0\n",
       "22 2009-01-01  65850.0\n",
       "23 2010-01-01  64300.0\n",
       "24 2011-01-01  63350.0\n",
       "25 2012-01-01  63350.0\n",
       "26 2013-01-01  65740.0\n",
       "27 2014-01-01  64900.0\n",
       "28 2015-01-01  68410.0\n",
       "29 2016-01-01  70840.0\n",
       "30 2017-01-01  72090.0\n",
       "31 2018-01-01  73030.0\n",
       "32 2019-01-01  78250.0\n",
       "33 2020-01-01  76660.0\n",
       "34 2021-01-01  76330.0\n",
       "35 2022-01-01  74580.0"
      ]
     },
     "execution_count": 67,
     "metadata": {},
     "output_type": "execute_result"
    }
   ],
   "source": [
    "meho"
   ]
  },
  {
   "cell_type": "markdown",
   "id": "f2f40fe1-6363-4035-93b7-bdcd689e0b4a",
   "metadata": {},
   "source": [
    "We have only one median income value per year."
   ]
  },
  {
   "cell_type": "code",
   "execution_count": 68,
   "id": "3e2d021c-06a8-4101-924c-142055c25938",
   "metadata": {},
   "outputs": [
    {
     "data": {
      "image/png": "[encoded data removed]",
      "text/plain": [
       "<Figure size 640x480 with 1 Axes>"
      ]
     },
     "metadata": {},
     "output_type": "display_data"
    }
   ],
   "source": [
    "meho[\"value\"].plot(title=\"Income Data Over Time (before handling)\")\n",
    "plt.show()"
   ]
  },
  {
   "cell_type": "code",
   "execution_count": 69,
   "id": "cbe2b55c-c3ec-4b0d-80ba-9f4af14a5e5b",
   "metadata": {},
   "outputs": [
    {
     "data": {
      "text/plain": [
       "Index(['date', 'value'], dtype='object')"
      ]
     },
     "execution_count": 69,
     "metadata": {},
     "output_type": "execute_result"
    }
   ],
   "source": [
    "meho.columns"
   ]
  },
  {
   "cell_type": "code",
   "execution_count": 70,
   "id": "67e59a40-be2a-45f2-8766-047ea4b22f9e",
   "metadata": {
    "scrolled": true
   },
   "outputs": [
    {
     "name": "stdout",
     "output_type": "stream",
     "text": [
      "                   value\n",
      "date                    \n",
      "1987-01-01  60760.000000\n",
      "1987-02-01  60797.500000\n",
      "1987-03-01  60835.000000\n",
      "1987-04-01  60872.500000\n",
      "1987-05-01  60910.000000\n",
      "...                  ...\n",
      "2021-09-01  75163.333333\n",
      "2021-10-01  75017.500000\n",
      "2021-11-01  74871.666667\n",
      "2021-12-01  74725.833333\n",
      "2022-01-01  74580.000000\n",
      "\n",
      "[421 rows x 1 columns]\n"
     ]
    }
   ],
   "source": [
    "temp = meho.copy()\n",
    "temp[\"date\"] = pd.to_datetime(meho[\"date\"])\n",
    "temp.reset_index(drop=True, inplace=True)\n",
    "temp.set_index(\"date\", inplace=True)\n",
    "temp_resampled = temp.resample(\"MS\").mean()\n",
    "temp_interpolated = temp_resampled.interpolate(method=\"linear\")\n",
    "print(temp_interpolated)\n",
    "# meho = meho_interpolated.copy()\n",
    "# meho.reset_index(inplace=True)  \n",
    "# meho"
   ]
  },
  {
   "cell_type": "code",
   "execution_count": 71,
   "id": "4fd5c927-f4d5-4c69-afce-34389616fa10",
   "metadata": {},
   "outputs": [
    {
     "data": {
      "text/plain": [
       "<Axes: xlabel='date'>"
      ]
     },
     "execution_count": 71,
     "metadata": {},
     "output_type": "execute_result"
    },
    {
     "data": {
      "image/png": "[encoded data removed]",
      "text/plain": [
       "<Figure size 640x480 with 1 Axes>"
      ]
     },
     "metadata": {},
     "output_type": "display_data"
    }
   ],
   "source": [
    "temp_interpolated['value'].plot()"
   ]
  },
  {
   "cell_type": "code",
   "execution_count": 72,
   "id": "963cff45-77dc-4a20-8728-7812f8d4bde4",
   "metadata": {},
   "outputs": [
    {
     "name": "stdout",
     "output_type": "stream",
     "text": [
      "              value\n",
      "1987-01-01  60760.0\n",
      "1987-02-01  60797.5\n",
      "1987-03-01  60835.0\n",
      "1987-04-01  60872.5\n",
      "1987-05-01  60910.0\n",
      "...             ...\n",
      "2023-12-01  74580.0\n",
      "2024-01-01  74580.0\n",
      "2024-02-01  74580.0\n",
      "2024-03-01  74580.0\n",
      "2024-04-01  74580.0\n",
      "\n",
      "[448 rows x 1 columns]\n"
     ]
    }
   ],
   "source": [
    "last_date = '2024-04-01'\n",
    "last_date = pd.to_datetime(last_date)\n",
    "extended_index = pd.date_range(start=temp_interpolated.index.min(), end=last_date, freq='MS')\n",
    "df_extended = temp_interpolated.reindex(extended_index)\n",
    "df_interpolated = df_extended.interpolate(method='linear')\n",
    "print(df_interpolated)"
   ]
  },
  {
   "cell_type": "code",
   "execution_count": 73,
   "id": "e1057a3d-2311-4bbd-a39d-069f5e8f6a82",
   "metadata": {},
   "outputs": [
    {
     "data": {
      "text/plain": [
       "<Axes: title={'center': 'Income Data Over Time after handling'}>"
      ]
     },
     "execution_count": 73,
     "metadata": {},
     "output_type": "execute_result"
    },
    {
     "data": {
      "image/png": "[encoded data removed]",
      "text/plain": [
       "<Figure size 640x480 with 1 Axes>"
      ]
     },
     "metadata": {},
     "output_type": "display_data"
    }
   ],
   "source": [
    "df_interpolated['value'].plot(title=\"Income Data Over Time after handling\")"
   ]
  },
  {
   "cell_type": "code",
   "execution_count": 74,
   "id": "83233507-6dfa-4c32-9a14-68fc8b9efbd0",
   "metadata": {
    "scrolled": true
   },
   "outputs": [],
   "source": [
    "df_interpolated = df.reset_index()\n",
    "df_interpolated.rename(columns={'index': 'date'}, inplace=True)"
   ]
  },
  {
   "cell_type": "code",
   "execution_count": 75,
   "id": "daba52ac-fb83-4dcd-8271-6359f375f067",
   "metadata": {
    "scrolled": true
   },
   "outputs": [
    {
     "name": "stdout",
     "output_type": "stream",
     "text": [
      "    date       date         value\n",
      "0      0 1987-01-01   4863.390000\n",
      "1      1 1987-02-01   4893.305667\n",
      "2      2 1987-03-01   4923.221333\n",
      "3      3 1987-04-01   4953.137000\n",
      "4      4 1987-05-01   4978.764333\n",
      "..   ...        ...           ...\n",
      "443  443 2023-12-01  28982.957333\n",
      "444  444 2024-01-01  29104.070000\n",
      "445  445 2024-02-01  29234.510000\n",
      "446  446 2024-03-01  29365.950000\n",
      "447  447 2024-04-01  29365.950000\n",
      "\n",
      "[448 rows x 3 columns]\n"
     ]
    },
    {
     "data": {
      "text/html": [
       "<div>\n",
       "<style scoped>\n",
       "    .dataframe tbody tr th:only-of-type {\n",
       "        vertical-align: middle;\n",
       "    }\n",
       "\n",
       "    .dataframe tbody tr th {\n",
       "        vertical-align: top;\n",
       "    }\n",
       "\n",
       "    .dataframe thead th {\n",
       "        text-align: right;\n",
       "    }\n",
       "</style>\n",
       "<table border=\"1\" class=\"dataframe\">\n",
       "  <thead>\n",
       "    <tr style=\"text-align: right;\">\n",
       "      <th></th>\n",
       "      <th>date</th>\n",
       "      <th>value</th>\n",
       "    </tr>\n",
       "  </thead>\n",
       "  <tbody>\n",
       "    <tr>\n",
       "      <th>0</th>\n",
       "      <td>1987-01-01</td>\n",
       "      <td>4863.390000</td>\n",
       "    </tr>\n",
       "    <tr>\n",
       "      <th>1</th>\n",
       "      <td>1987-02-01</td>\n",
       "      <td>4893.305667</td>\n",
       "    </tr>\n",
       "    <tr>\n",
       "      <th>2</th>\n",
       "      <td>1987-03-01</td>\n",
       "      <td>4923.221333</td>\n",
       "    </tr>\n",
       "    <tr>\n",
       "      <th>3</th>\n",
       "      <td>1987-04-01</td>\n",
       "      <td>4953.137000</td>\n",
       "    </tr>\n",
       "    <tr>\n",
       "      <th>4</th>\n",
       "      <td>1987-05-01</td>\n",
       "      <td>4978.764333</td>\n",
       "    </tr>\n",
       "    <tr>\n",
       "      <th>...</th>\n",
       "      <td>...</td>\n",
       "      <td>...</td>\n",
       "    </tr>\n",
       "    <tr>\n",
       "      <th>443</th>\n",
       "      <td>2023-12-01</td>\n",
       "      <td>28982.957333</td>\n",
       "    </tr>\n",
       "    <tr>\n",
       "      <th>444</th>\n",
       "      <td>2024-01-01</td>\n",
       "      <td>29104.070000</td>\n",
       "    </tr>\n",
       "    <tr>\n",
       "      <th>445</th>\n",
       "      <td>2024-02-01</td>\n",
       "      <td>29234.510000</td>\n",
       "    </tr>\n",
       "    <tr>\n",
       "      <th>446</th>\n",
       "      <td>2024-03-01</td>\n",
       "      <td>29365.950000</td>\n",
       "    </tr>\n",
       "    <tr>\n",
       "      <th>447</th>\n",
       "      <td>2024-04-01</td>\n",
       "      <td>29365.950000</td>\n",
       "    </tr>\n",
       "  </tbody>\n",
       "</table>\n",
       "<p>448 rows × 2 columns</p>\n",
       "</div>"
      ],
      "text/plain": [
       "          date         value\n",
       "0   1987-01-01   4863.390000\n",
       "1   1987-02-01   4893.305667\n",
       "2   1987-03-01   4923.221333\n",
       "3   1987-04-01   4953.137000\n",
       "4   1987-05-01   4978.764333\n",
       "..         ...           ...\n",
       "443 2023-12-01  28982.957333\n",
       "444 2024-01-01  29104.070000\n",
       "445 2024-02-01  29234.510000\n",
       "446 2024-03-01  29365.950000\n",
       "447 2024-04-01  29365.950000\n",
       "\n",
       "[448 rows x 2 columns]"
      ]
     },
     "execution_count": 75,
     "metadata": {},
     "output_type": "execute_result"
    }
   ],
   "source": [
    "print(df_interpolated)\n",
    "\n",
    "df_interpolated = df_interpolated.iloc[:, 1:] \n",
    "df_interpolated"
   ]
  },
  {
   "cell_type": "code",
   "execution_count": 76,
   "id": "72debcd8-2741-47ae-9adf-e77048c4f16c",
   "metadata": {},
   "outputs": [
    {
     "data": {
      "text/html": [
       "<div>\n",
       "<style scoped>\n",
       "    .dataframe tbody tr th:only-of-type {\n",
       "        vertical-align: middle;\n",
       "    }\n",
       "\n",
       "    .dataframe tbody tr th {\n",
       "        vertical-align: top;\n",
       "    }\n",
       "\n",
       "    .dataframe thead th {\n",
       "        text-align: right;\n",
       "    }\n",
       "</style>\n",
       "<table border=\"1\" class=\"dataframe\">\n",
       "  <thead>\n",
       "    <tr style=\"text-align: right;\">\n",
       "      <th></th>\n",
       "      <th>date</th>\n",
       "      <th>value</th>\n",
       "    </tr>\n",
       "  </thead>\n",
       "  <tbody>\n",
       "    <tr>\n",
       "      <th>0</th>\n",
       "      <td>1987-01-01</td>\n",
       "      <td>4863.390000</td>\n",
       "    </tr>\n",
       "    <tr>\n",
       "      <th>1</th>\n",
       "      <td>1987-02-01</td>\n",
       "      <td>4893.305667</td>\n",
       "    </tr>\n",
       "    <tr>\n",
       "      <th>2</th>\n",
       "      <td>1987-03-01</td>\n",
       "      <td>4923.221333</td>\n",
       "    </tr>\n",
       "    <tr>\n",
       "      <th>3</th>\n",
       "      <td>1987-04-01</td>\n",
       "      <td>4953.137000</td>\n",
       "    </tr>\n",
       "    <tr>\n",
       "      <th>4</th>\n",
       "      <td>1987-05-01</td>\n",
       "      <td>4978.764333</td>\n",
       "    </tr>\n",
       "    <tr>\n",
       "      <th>...</th>\n",
       "      <td>...</td>\n",
       "      <td>...</td>\n",
       "    </tr>\n",
       "    <tr>\n",
       "      <th>442</th>\n",
       "      <td>2023-11-01</td>\n",
       "      <td>28861.844667</td>\n",
       "    </tr>\n",
       "    <tr>\n",
       "      <th>443</th>\n",
       "      <td>2023-12-01</td>\n",
       "      <td>28982.957333</td>\n",
       "    </tr>\n",
       "    <tr>\n",
       "      <th>444</th>\n",
       "      <td>2024-01-01</td>\n",
       "      <td>29104.070000</td>\n",
       "    </tr>\n",
       "    <tr>\n",
       "      <th>445</th>\n",
       "      <td>2024-02-01</td>\n",
       "      <td>29234.510000</td>\n",
       "    </tr>\n",
       "    <tr>\n",
       "      <th>446</th>\n",
       "      <td>2024-03-01</td>\n",
       "      <td>29365.950000</td>\n",
       "    </tr>\n",
       "  </tbody>\n",
       "</table>\n",
       "<p>447 rows × 2 columns</p>\n",
       "</div>"
      ],
      "text/plain": [
       "          date         value\n",
       "0   1987-01-01   4863.390000\n",
       "1   1987-02-01   4893.305667\n",
       "2   1987-03-01   4923.221333\n",
       "3   1987-04-01   4953.137000\n",
       "4   1987-05-01   4978.764333\n",
       "..         ...           ...\n",
       "442 2023-11-01  28861.844667\n",
       "443 2023-12-01  28982.957333\n",
       "444 2024-01-01  29104.070000\n",
       "445 2024-02-01  29234.510000\n",
       "446 2024-03-01  29365.950000\n",
       "\n",
       "[447 rows x 2 columns]"
      ]
     },
     "execution_count": 76,
     "metadata": {},
     "output_type": "execute_result"
    }
   ],
   "source": [
    "df_interpolated = df_interpolated[:-1]\n",
    "df_interpolated"
   ]
  },
  {
   "cell_type": "code",
   "execution_count": 77,
   "id": "23c5d72d-822c-4a7d-8ac0-5dbf498c0e8b",
   "metadata": {
    "scrolled": true
   },
   "outputs": [
    {
     "data": {
      "text/html": [
       "<div>\n",
       "<style scoped>\n",
       "    .dataframe tbody tr th:only-of-type {\n",
       "        vertical-align: middle;\n",
       "    }\n",
       "\n",
       "    .dataframe tbody tr th {\n",
       "        vertical-align: top;\n",
       "    }\n",
       "\n",
       "    .dataframe thead th {\n",
       "        text-align: right;\n",
       "    }\n",
       "</style>\n",
       "<table border=\"1\" class=\"dataframe\">\n",
       "  <thead>\n",
       "    <tr style=\"text-align: right;\">\n",
       "      <th></th>\n",
       "      <th>date</th>\n",
       "      <th>value</th>\n",
       "    </tr>\n",
       "  </thead>\n",
       "  <tbody>\n",
       "    <tr>\n",
       "      <th>0</th>\n",
       "      <td>1987-01-01</td>\n",
       "      <td>4863.390000</td>\n",
       "    </tr>\n",
       "    <tr>\n",
       "      <th>1</th>\n",
       "      <td>1987-02-01</td>\n",
       "      <td>4893.305667</td>\n",
       "    </tr>\n",
       "    <tr>\n",
       "      <th>2</th>\n",
       "      <td>1987-03-01</td>\n",
       "      <td>4923.221333</td>\n",
       "    </tr>\n",
       "    <tr>\n",
       "      <th>3</th>\n",
       "      <td>1987-04-01</td>\n",
       "      <td>4953.137000</td>\n",
       "    </tr>\n",
       "    <tr>\n",
       "      <th>4</th>\n",
       "      <td>1987-05-01</td>\n",
       "      <td>4978.764333</td>\n",
       "    </tr>\n",
       "    <tr>\n",
       "      <th>...</th>\n",
       "      <td>...</td>\n",
       "      <td>...</td>\n",
       "    </tr>\n",
       "    <tr>\n",
       "      <th>442</th>\n",
       "      <td>2023-11-01</td>\n",
       "      <td>28861.844667</td>\n",
       "    </tr>\n",
       "    <tr>\n",
       "      <th>443</th>\n",
       "      <td>2023-12-01</td>\n",
       "      <td>28982.957333</td>\n",
       "    </tr>\n",
       "    <tr>\n",
       "      <th>444</th>\n",
       "      <td>2024-01-01</td>\n",
       "      <td>29104.070000</td>\n",
       "    </tr>\n",
       "    <tr>\n",
       "      <th>445</th>\n",
       "      <td>2024-02-01</td>\n",
       "      <td>29234.510000</td>\n",
       "    </tr>\n",
       "    <tr>\n",
       "      <th>446</th>\n",
       "      <td>2024-03-01</td>\n",
       "      <td>29365.950000</td>\n",
       "    </tr>\n",
       "  </tbody>\n",
       "</table>\n",
       "<p>447 rows × 2 columns</p>\n",
       "</div>"
      ],
      "text/plain": [
       "          date         value\n",
       "0   1987-01-01   4863.390000\n",
       "1   1987-02-01   4893.305667\n",
       "2   1987-03-01   4923.221333\n",
       "3   1987-04-01   4953.137000\n",
       "4   1987-05-01   4978.764333\n",
       "..         ...           ...\n",
       "442 2023-11-01  28861.844667\n",
       "443 2023-12-01  28982.957333\n",
       "444 2024-01-01  29104.070000\n",
       "445 2024-02-01  29234.510000\n",
       "446 2024-03-01  29365.950000\n",
       "\n",
       "[447 rows x 2 columns]"
      ]
     },
     "execution_count": 77,
     "metadata": {},
     "output_type": "execute_result"
    }
   ],
   "source": [
    "meho = df_interpolated.copy()\n",
    "meho"
   ]
  },
  {
   "cell_type": "code",
   "execution_count": 78,
   "id": "39751e30-78c1-4a9c-af9d-94ab293ea217",
   "metadata": {},
   "outputs": [
    {
     "data": {
      "text/html": [
       "<div>\n",
       "<style scoped>\n",
       "    .dataframe tbody tr th:only-of-type {\n",
       "        vertical-align: middle;\n",
       "    }\n",
       "\n",
       "    .dataframe tbody tr th {\n",
       "        vertical-align: top;\n",
       "    }\n",
       "\n",
       "    .dataframe thead th {\n",
       "        text-align: right;\n",
       "    }\n",
       "</style>\n",
       "<table border=\"1\" class=\"dataframe\">\n",
       "  <thead>\n",
       "    <tr style=\"text-align: right;\">\n",
       "      <th></th>\n",
       "      <th>date</th>\n",
       "      <th>value</th>\n",
       "    </tr>\n",
       "  </thead>\n",
       "  <tbody>\n",
       "    <tr>\n",
       "      <th>0</th>\n",
       "      <td>1987-01-01</td>\n",
       "      <td>4863.390000</td>\n",
       "    </tr>\n",
       "    <tr>\n",
       "      <th>1</th>\n",
       "      <td>1987-02-01</td>\n",
       "      <td>4893.305667</td>\n",
       "    </tr>\n",
       "    <tr>\n",
       "      <th>2</th>\n",
       "      <td>1987-03-01</td>\n",
       "      <td>4923.221333</td>\n",
       "    </tr>\n",
       "    <tr>\n",
       "      <th>3</th>\n",
       "      <td>1987-04-01</td>\n",
       "      <td>4953.137000</td>\n",
       "    </tr>\n",
       "    <tr>\n",
       "      <th>4</th>\n",
       "      <td>1987-05-01</td>\n",
       "      <td>4978.764333</td>\n",
       "    </tr>\n",
       "    <tr>\n",
       "      <th>...</th>\n",
       "      <td>...</td>\n",
       "      <td>...</td>\n",
       "    </tr>\n",
       "    <tr>\n",
       "      <th>443</th>\n",
       "      <td>2023-12-01</td>\n",
       "      <td>28982.957333</td>\n",
       "    </tr>\n",
       "    <tr>\n",
       "      <th>444</th>\n",
       "      <td>2024-01-01</td>\n",
       "      <td>29104.070000</td>\n",
       "    </tr>\n",
       "    <tr>\n",
       "      <th>445</th>\n",
       "      <td>2024-02-01</td>\n",
       "      <td>29234.510000</td>\n",
       "    </tr>\n",
       "    <tr>\n",
       "      <th>446</th>\n",
       "      <td>2024-03-01</td>\n",
       "      <td>29365.950000</td>\n",
       "    </tr>\n",
       "    <tr>\n",
       "      <th>447</th>\n",
       "      <td>2024-04-01</td>\n",
       "      <td>29365.950000</td>\n",
       "    </tr>\n",
       "  </tbody>\n",
       "</table>\n",
       "<p>448 rows × 2 columns</p>\n",
       "</div>"
      ],
      "text/plain": [
       "          date         value\n",
       "0   1987-01-01   4863.390000\n",
       "1   1987-02-01   4893.305667\n",
       "2   1987-03-01   4923.221333\n",
       "3   1987-04-01   4953.137000\n",
       "4   1987-05-01   4978.764333\n",
       "..         ...           ...\n",
       "443 2023-12-01  28982.957333\n",
       "444 2024-01-01  29104.070000\n",
       "445 2024-02-01  29234.510000\n",
       "446 2024-03-01  29365.950000\n",
       "447 2024-04-01  29365.950000\n",
       "\n",
       "[448 rows x 2 columns]"
      ]
     },
     "execution_count": 78,
     "metadata": {},
     "output_type": "execute_result"
    }
   ],
   "source": [
    "new_data = {'date': pd.to_datetime('2024-04-01'), 'value': 29365.95}\n",
    "new_data_df = pd.DataFrame([new_data])\n",
    "meho = pd.concat([meho, new_data_df], ignore_index=True)\n",
    "meho = meho.sort_values(by='date')\n",
    "meho"
   ]
  },
  {
   "cell_type": "markdown",
   "id": "9ccce911-d574-4428-b170-c6be13b2ec7a",
   "metadata": {},
   "source": [
    "Median Income is also handled. Now need to handle Mortgage interest rates"
   ]
  },
  {
   "cell_type": "markdown",
   "id": "21ef3d35-4d53-48a8-aa80-3f6ba91974d9",
   "metadata": {},
   "source": [
    "Scaling down 1900+ data points to some 500 doesn\"t sound like a good Idea, so let us not use mortgage interest rates and I have found a new key factor based on PERMIT : \"Number of new housing units authorized by building permits.\"\n"
   ]
  },
  {
   "cell_type": "code",
   "execution_count": 79,
   "id": "a47e65d2-3667-4be7-8ae3-ec2e3792cf06",
   "metadata": {},
   "outputs": [
    {
     "data": {
      "text/html": [
       "<div>\n",
       "<style scoped>\n",
       "    .dataframe tbody tr th:only-of-type {\n",
       "        vertical-align: middle;\n",
       "    }\n",
       "\n",
       "    .dataframe tbody tr th {\n",
       "        vertical-align: top;\n",
       "    }\n",
       "\n",
       "    .dataframe thead th {\n",
       "        text-align: right;\n",
       "    }\n",
       "</style>\n",
       "<table border=\"1\" class=\"dataframe\">\n",
       "  <thead>\n",
       "    <tr style=\"text-align: right;\">\n",
       "      <th></th>\n",
       "      <th>date</th>\n",
       "      <th>value</th>\n",
       "    </tr>\n",
       "  </thead>\n",
       "  <tbody>\n",
       "    <tr>\n",
       "      <th>0</th>\n",
       "      <td>1987-01-01</td>\n",
       "      <td>1690.0</td>\n",
       "    </tr>\n",
       "    <tr>\n",
       "      <th>1</th>\n",
       "      <td>1987-02-01</td>\n",
       "      <td>1689.0</td>\n",
       "    </tr>\n",
       "    <tr>\n",
       "      <th>2</th>\n",
       "      <td>1987-03-01</td>\n",
       "      <td>1704.0</td>\n",
       "    </tr>\n",
       "    <tr>\n",
       "      <th>3</th>\n",
       "      <td>1987-04-01</td>\n",
       "      <td>1601.0</td>\n",
       "    </tr>\n",
       "    <tr>\n",
       "      <th>4</th>\n",
       "      <td>1987-05-01</td>\n",
       "      <td>1500.0</td>\n",
       "    </tr>\n",
       "    <tr>\n",
       "      <th>...</th>\n",
       "      <td>...</td>\n",
       "      <td>...</td>\n",
       "    </tr>\n",
       "    <tr>\n",
       "      <th>442</th>\n",
       "      <td>2023-11-01</td>\n",
       "      <td>1508.0</td>\n",
       "    </tr>\n",
       "    <tr>\n",
       "      <th>443</th>\n",
       "      <td>2023-12-01</td>\n",
       "      <td>1530.0</td>\n",
       "    </tr>\n",
       "    <tr>\n",
       "      <th>444</th>\n",
       "      <td>2024-01-01</td>\n",
       "      <td>1508.0</td>\n",
       "    </tr>\n",
       "    <tr>\n",
       "      <th>445</th>\n",
       "      <td>2024-02-01</td>\n",
       "      <td>1563.0</td>\n",
       "    </tr>\n",
       "    <tr>\n",
       "      <th>446</th>\n",
       "      <td>2024-03-01</td>\n",
       "      <td>1485.0</td>\n",
       "    </tr>\n",
       "  </tbody>\n",
       "</table>\n",
       "<p>447 rows × 2 columns</p>\n",
       "</div>"
      ],
      "text/plain": [
       "           date   value\n",
       "0    1987-01-01  1690.0\n",
       "1    1987-02-01  1689.0\n",
       "2    1987-03-01  1704.0\n",
       "3    1987-04-01  1601.0\n",
       "4    1987-05-01  1500.0\n",
       "..          ...     ...\n",
       "442  2023-11-01  1508.0\n",
       "443  2023-12-01  1530.0\n",
       "444  2024-01-01  1508.0\n",
       "445  2024-02-01  1563.0\n",
       "446  2024-03-01  1485.0\n",
       "\n",
       "[447 rows x 2 columns]"
      ]
     },
     "execution_count": 79,
     "metadata": {},
     "output_type": "execute_result"
    }
   ],
   "source": [
    "permit"
   ]
  },
  {
   "cell_type": "code",
   "execution_count": 80,
   "id": "66d0ad0a-947b-4ce6-a997-2993930ffb6c",
   "metadata": {
    "scrolled": true
   },
   "outputs": [
    {
     "name": "stdout",
     "output_type": "stream",
     "text": [
      "          date   value\n",
      "443 2023-12-01  1530.0\n",
      "444 2024-01-01  1508.0\n",
      "445 2024-02-01  1563.0\n",
      "446 2024-03-01  1485.0\n",
      "447 2024-04-01  1485.0\n"
     ]
    }
   ],
   "source": [
    "permit.loc[len(permit)] = ['2024-04-01', 1485.0]\n",
    "permit['date'] = pd.to_datetime(permit['date'])\n",
    "print(permit.tail())"
   ]
  },
  {
   "cell_type": "code",
   "execution_count": 81,
   "id": "2f9d34fa-ce67-42ae-b213-8e3b1469e472",
   "metadata": {},
   "outputs": [],
   "source": [
    "permit = permit.copy()"
   ]
  },
  {
   "cell_type": "code",
   "execution_count": 82,
   "id": "9100fe0b-6849-46b0-bf86-25a9d3cfa276",
   "metadata": {},
   "outputs": [
    {
     "data": {
      "image/png": "[encoded data removed]",
      "text/plain": [
       "<Figure size 640x480 with 1 Axes>"
      ]
     },
     "metadata": {},
     "output_type": "display_data"
    }
   ],
   "source": [
    "permit_dup = permit.copy()\n",
    "# permit_dup.columns\n",
    "permit_dup[\"date\"] = pd.to_datetime(permit_dup[\"date\"], format=\"%Y-%m-%d\")\n",
    "plt.plot(permit_dup.date, permit_dup[\"value\"])\n",
    "plt.xlabel(\"Date\")\n",
    "plt.ylabel(\"Building Permits\")\n",
    "plt.title(\"Number of new housing units authorized by building permits\")\n",
    "plt.show()"
   ]
  },
  {
   "cell_type": "markdown",
   "id": "1c27e2df-3d42-4a94-a3b7-fcfe9d55215f",
   "metadata": {},
   "source": [
    "## Building Final Dataset"
   ]
  },
  {
   "cell_type": "markdown",
   "id": "c40f5305-853e-4642-b852-0f654182c171",
   "metadata": {},
   "source": [
    "we need to build a final dataset from all the features now."
   ]
  },
  {
   "cell_type": "code",
   "execution_count": 83,
   "id": "6ba2624e-2dd9-42c8-942a-2ced18e8e171",
   "metadata": {},
   "outputs": [],
   "source": [
    "from datetime import datetime\n",
    "\n",
    "cpi.rename(columns={\"value\": \"CPI\"}, inplace=True)\n",
    "csus.rename(columns={\"value\": \"Home Price Index\"}, inplace=True)\n",
    "fedfunds.rename(columns={\"value\": \"Federal Funds Rate\"}, inplace=True)\n",
    "gdp.rename(columns={\"value\": \"GDP\"}, inplace=True)\n",
    "houst.rename(columns={\"value\": \"Housing Starts\"}, inplace=True)\n",
    "mcoil.rename(columns={\"value\": \"Crude Oil Prices\"}, inplace=True)\n",
    "meho.rename(columns={\"value\": \"Median Household Income\"}, inplace=True)\n",
    "pop.rename(columns={\"value\": \"Population\"}, inplace=True)\n",
    "unrate.rename(columns={\"value\": \"Unemployment Rate\"}, inplace=True)\n",
    "permit.rename(columns={\"value\": \"Building Permits\"}, inplace=True)"
   ]
  },
  {
   "cell_type": "code",
   "execution_count": 84,
   "id": "307d582e-97bd-4b34-b3d6-24d1af3b35c7",
   "metadata": {},
   "outputs": [
    {
     "name": "stdout",
     "output_type": "stream",
     "text": [
      "(448, 2)\n",
      "(448, 2)\n",
      "(448, 2)\n",
      "(448, 2)\n",
      "(448, 2)\n",
      "(448, 2)\n",
      "(448, 2)\n",
      "(448, 2)\n",
      "(448, 2)\n",
      "(448, 2)\n"
     ]
    }
   ],
   "source": [
    "features = [csus,cpi,fedfunds,gdp,houst,mcoil,meho,pop,unrate,permit]\n",
    "\n",
    "for feature in features:\n",
    "    # feature.reset_index(drop=True, inplace=True)\n",
    "    print(f\"{feature.shape}\")"
   ]
  },
  {
   "cell_type": "markdown",
   "id": "289fdb26-5d49-4f86-b432-6bfa80007c95",
   "metadata": {},
   "source": [
    "All dataframes have same shape"
   ]
  },
  {
   "cell_type": "code",
   "execution_count": 85,
   "id": "e19b8ff5-01ec-439b-b895-704f7fe94879",
   "metadata": {},
   "outputs": [
    {
     "name": "stdout",
     "output_type": "stream",
     "text": [
      "        date    CPI  Home Price Index  Federal Funds Rate          GDP  \\\n",
      "0 1987-01-01  111.4            63.965                6.43  4863.390000   \n",
      "1 1987-02-01  111.8            64.423                6.10  4893.305667   \n",
      "2 1987-03-01  112.2            64.735                6.13  4923.221333   \n",
      "3 1987-04-01  112.7            65.131                6.37  4953.137000   \n",
      "4 1987-05-01  113.0            65.563                6.85  4978.764333   \n",
      "\n",
      "   Housing Starts  Crude Oil Prices  Median Household Income  Population  \\\n",
      "0          1774.0             18.65              4863.390000    241784.0   \n",
      "1          1784.0             17.75              4893.305667    241930.0   \n",
      "2          1726.0             18.30              4923.221333    242079.0   \n",
      "3          1614.0             18.68              4953.137000    242252.0   \n",
      "4          1628.0             19.44              4978.764333    242423.0   \n",
      "\n",
      "   Unemployment Rate  Building Permits  \n",
      "0                6.6            1690.0  \n",
      "1                6.6            1689.0  \n",
      "2                6.6            1704.0  \n",
      "3                6.3            1601.0  \n",
      "4                6.3            1500.0  \n"
     ]
    }
   ],
   "source": [
    "for df in [cpi, csus, fedfunds, gdp, houst, mcoil, meho, pop, unrate, permit]:\n",
    "    df['date'] = pd.to_datetime(df['date'])\n",
    "\n",
    "cpi.set_index('date', inplace=True)\n",
    "csus.set_index('date', inplace=True)\n",
    "fedfunds.set_index('date', inplace=True)\n",
    "gdp.set_index('date', inplace=True)\n",
    "houst.set_index('date', inplace=True)\n",
    "mcoil.set_index('date', inplace=True)\n",
    "meho.set_index('date', inplace=True)\n",
    "pop.set_index('date', inplace=True)\n",
    "unrate.set_index('date', inplace=True)\n",
    "permit.set_index('date', inplace=True)\n",
    "\n",
    "merged_df = pd.concat([cpi, csus, fedfunds, gdp, houst, mcoil, meho, pop, unrate, permit], axis=1)\n",
    "\n",
    "merged_df.reset_index(inplace=True)\n",
    "\n",
    "print(merged_df.head())"
   ]
  },
  {
   "cell_type": "code",
   "execution_count": 86,
   "id": "58173ff7-7924-4737-9e97-289616c097e3",
   "metadata": {
    "scrolled": true
   },
   "outputs": [
    {
     "data": {
      "text/plain": [
       "<Axes: >"
      ]
     },
     "execution_count": 86,
     "metadata": {},
     "output_type": "execute_result"
    },
    {
     "data": {
      "image/png": "[encoded data removed]",
      "text/plain": [
       "<Figure size 2500x1000 with 3 Axes>"
      ]
     },
     "metadata": {},
     "output_type": "display_data"
    }
   ],
   "source": [
    "mno.bar(merged_df)"
   ]
  },
  {
   "cell_type": "markdown",
   "id": "10a4c119-c698-483c-bfe9-ba76ea44967c",
   "metadata": {},
   "source": [
    "Dataset is done. Lets save it as final dataset."
   ]
  },
  {
   "cell_type": "code",
   "execution_count": 87,
   "id": "14e9dba5-2aea-47d3-a2dc-f146a0fcdb6c",
   "metadata": {},
   "outputs": [],
   "source": [
    "merged_df.to_csv(os.path.join(data_dir,\"Final.csv\"), index=False)"
   ]
  },
  {
   "cell_type": "markdown",
   "id": "ebc9832d-f54e-434b-94da-852a0d9a128d",
   "metadata": {},
   "source": [
    "## Model Building"
   ]
  },
  {
   "cell_type": "markdown",
   "id": "ec69b20b-4dd6-489d-ac01-a90028153a30",
   "metadata": {},
   "source": [
    "#### Our Target is Home Price Index. Hence we have a supervised learning task where we will use Regression."
   ]
  },
  {
   "cell_type": "code",
   "execution_count": 88,
   "id": "996ac164-bd88-47fe-97ec-6c796f8a24f1",
   "metadata": {},
   "outputs": [
    {
     "data": {
      "text/html": [
       "<div>\n",
       "<style scoped>\n",
       "    .dataframe tbody tr th:only-of-type {\n",
       "        vertical-align: middle;\n",
       "    }\n",
       "\n",
       "    .dataframe tbody tr th {\n",
       "        vertical-align: top;\n",
       "    }\n",
       "\n",
       "    .dataframe thead th {\n",
       "        text-align: right;\n",
       "    }\n",
       "</style>\n",
       "<table border=\"1\" class=\"dataframe\">\n",
       "  <thead>\n",
       "    <tr style=\"text-align: right;\">\n",
       "      <th></th>\n",
       "      <th>date</th>\n",
       "      <th>CPI</th>\n",
       "      <th>Home Price Index</th>\n",
       "      <th>Federal Funds Rate</th>\n",
       "      <th>GDP</th>\n",
       "      <th>Housing Starts</th>\n",
       "      <th>Crude Oil Prices</th>\n",
       "      <th>Median Household Income</th>\n",
       "      <th>Population</th>\n",
       "      <th>Unemployment Rate</th>\n",
       "      <th>Building Permits</th>\n",
       "    </tr>\n",
       "  </thead>\n",
       "  <tbody>\n",
       "    <tr>\n",
       "      <th>0</th>\n",
       "      <td>1987-01-01</td>\n",
       "      <td>111.400</td>\n",
       "      <td>63.965</td>\n",
       "      <td>6.43</td>\n",
       "      <td>4863.390000</td>\n",
       "      <td>1774.0</td>\n",
       "      <td>18.65</td>\n",
       "      <td>4863.390000</td>\n",
       "      <td>241784.000</td>\n",
       "      <td>6.6</td>\n",
       "      <td>1690.0</td>\n",
       "    </tr>\n",
       "    <tr>\n",
       "      <th>1</th>\n",
       "      <td>1987-02-01</td>\n",
       "      <td>111.800</td>\n",
       "      <td>64.423</td>\n",
       "      <td>6.10</td>\n",
       "      <td>4893.305667</td>\n",
       "      <td>1784.0</td>\n",
       "      <td>17.75</td>\n",
       "      <td>4893.305667</td>\n",
       "      <td>241930.000</td>\n",
       "      <td>6.6</td>\n",
       "      <td>1689.0</td>\n",
       "    </tr>\n",
       "    <tr>\n",
       "      <th>2</th>\n",
       "      <td>1987-03-01</td>\n",
       "      <td>112.200</td>\n",
       "      <td>64.735</td>\n",
       "      <td>6.13</td>\n",
       "      <td>4923.221333</td>\n",
       "      <td>1726.0</td>\n",
       "      <td>18.30</td>\n",
       "      <td>4923.221333</td>\n",
       "      <td>242079.000</td>\n",
       "      <td>6.6</td>\n",
       "      <td>1704.0</td>\n",
       "    </tr>\n",
       "    <tr>\n",
       "      <th>3</th>\n",
       "      <td>1987-04-01</td>\n",
       "      <td>112.700</td>\n",
       "      <td>65.131</td>\n",
       "      <td>6.37</td>\n",
       "      <td>4953.137000</td>\n",
       "      <td>1614.0</td>\n",
       "      <td>18.68</td>\n",
       "      <td>4953.137000</td>\n",
       "      <td>242252.000</td>\n",
       "      <td>6.3</td>\n",
       "      <td>1601.0</td>\n",
       "    </tr>\n",
       "    <tr>\n",
       "      <th>4</th>\n",
       "      <td>1987-05-01</td>\n",
       "      <td>113.000</td>\n",
       "      <td>65.563</td>\n",
       "      <td>6.85</td>\n",
       "      <td>4978.764333</td>\n",
       "      <td>1628.0</td>\n",
       "      <td>19.44</td>\n",
       "      <td>4978.764333</td>\n",
       "      <td>242423.000</td>\n",
       "      <td>6.3</td>\n",
       "      <td>1500.0</td>\n",
       "    </tr>\n",
       "    <tr>\n",
       "      <th>...</th>\n",
       "      <td>...</td>\n",
       "      <td>...</td>\n",
       "      <td>...</td>\n",
       "      <td>...</td>\n",
       "      <td>...</td>\n",
       "      <td>...</td>\n",
       "      <td>...</td>\n",
       "      <td>...</td>\n",
       "      <td>...</td>\n",
       "      <td>...</td>\n",
       "      <td>...</td>\n",
       "    </tr>\n",
       "    <tr>\n",
       "      <th>443</th>\n",
       "      <td>2023-12-01</td>\n",
       "      <td>308.742</td>\n",
       "      <td>314.443</td>\n",
       "      <td>5.33</td>\n",
       "      <td>28982.957333</td>\n",
       "      <td>1568.0</td>\n",
       "      <td>71.90</td>\n",
       "      <td>28982.957333</td>\n",
       "      <td>336000.763</td>\n",
       "      <td>3.7</td>\n",
       "      <td>1530.0</td>\n",
       "    </tr>\n",
       "    <tr>\n",
       "      <th>444</th>\n",
       "      <td>2024-01-01</td>\n",
       "      <td>309.685</td>\n",
       "      <td>315.728</td>\n",
       "      <td>5.33</td>\n",
       "      <td>29104.070000</td>\n",
       "      <td>1376.0</td>\n",
       "      <td>74.15</td>\n",
       "      <td>29104.070000</td>\n",
       "      <td>336139.132</td>\n",
       "      <td>3.7</td>\n",
       "      <td>1508.0</td>\n",
       "    </tr>\n",
       "    <tr>\n",
       "      <th>445</th>\n",
       "      <td>2024-02-01</td>\n",
       "      <td>311.054</td>\n",
       "      <td>317.257</td>\n",
       "      <td>5.33</td>\n",
       "      <td>29234.510000</td>\n",
       "      <td>1546.0</td>\n",
       "      <td>77.25</td>\n",
       "      <td>29234.510000</td>\n",
       "      <td>336249.709</td>\n",
       "      <td>3.9</td>\n",
       "      <td>1563.0</td>\n",
       "    </tr>\n",
       "    <tr>\n",
       "      <th>446</th>\n",
       "      <td>2024-03-01</td>\n",
       "      <td>312.230</td>\n",
       "      <td>318.217</td>\n",
       "      <td>5.33</td>\n",
       "      <td>29365.950000</td>\n",
       "      <td>1299.0</td>\n",
       "      <td>81.28</td>\n",
       "      <td>29365.950000</td>\n",
       "      <td>336361.391</td>\n",
       "      <td>3.8</td>\n",
       "      <td>1485.0</td>\n",
       "    </tr>\n",
       "    <tr>\n",
       "      <th>447</th>\n",
       "      <td>2024-04-01</td>\n",
       "      <td>313.207</td>\n",
       "      <td>319.048</td>\n",
       "      <td>5.33</td>\n",
       "      <td>29365.950000</td>\n",
       "      <td>1377.0</td>\n",
       "      <td>85.35</td>\n",
       "      <td>29365.950000</td>\n",
       "      <td>336484.613</td>\n",
       "      <td>3.9</td>\n",
       "      <td>1485.0</td>\n",
       "    </tr>\n",
       "  </tbody>\n",
       "</table>\n",
       "<p>448 rows × 11 columns</p>\n",
       "</div>"
      ],
      "text/plain": [
       "          date      CPI  Home Price Index  Federal Funds Rate           GDP  \\\n",
       "0   1987-01-01  111.400            63.965                6.43   4863.390000   \n",
       "1   1987-02-01  111.800            64.423                6.10   4893.305667   \n",
       "2   1987-03-01  112.200            64.735                6.13   4923.221333   \n",
       "3   1987-04-01  112.700            65.131                6.37   4953.137000   \n",
       "4   1987-05-01  113.000            65.563                6.85   4978.764333   \n",
       "..         ...      ...               ...                 ...           ...   \n",
       "443 2023-12-01  308.742           314.443                5.33  28982.957333   \n",
       "444 2024-01-01  309.685           315.728                5.33  29104.070000   \n",
       "445 2024-02-01  311.054           317.257                5.33  29234.510000   \n",
       "446 2024-03-01  312.230           318.217                5.33  29365.950000   \n",
       "447 2024-04-01  313.207           319.048                5.33  29365.950000   \n",
       "\n",
       "     Housing Starts  Crude Oil Prices  Median Household Income  Population  \\\n",
       "0            1774.0             18.65              4863.390000  241784.000   \n",
       "1            1784.0             17.75              4893.305667  241930.000   \n",
       "2            1726.0             18.30              4923.221333  242079.000   \n",
       "3            1614.0             18.68              4953.137000  242252.000   \n",
       "4            1628.0             19.44              4978.764333  242423.000   \n",
       "..              ...               ...                      ...         ...   \n",
       "443          1568.0             71.90             28982.957333  336000.763   \n",
       "444          1376.0             74.15             29104.070000  336139.132   \n",
       "445          1546.0             77.25             29234.510000  336249.709   \n",
       "446          1299.0             81.28             29365.950000  336361.391   \n",
       "447          1377.0             85.35             29365.950000  336484.613   \n",
       "\n",
       "     Unemployment Rate  Building Permits  \n",
       "0                  6.6            1690.0  \n",
       "1                  6.6            1689.0  \n",
       "2                  6.6            1704.0  \n",
       "3                  6.3            1601.0  \n",
       "4                  6.3            1500.0  \n",
       "..                 ...               ...  \n",
       "443                3.7            1530.0  \n",
       "444                3.7            1508.0  \n",
       "445                3.9            1563.0  \n",
       "446                3.8            1485.0  \n",
       "447                3.9            1485.0  \n",
       "\n",
       "[448 rows x 11 columns]"
      ]
     },
     "execution_count": 88,
     "metadata": {},
     "output_type": "execute_result"
    }
   ],
   "source": [
    "df = merged_df.copy()\n",
    "df"
   ]
  },
  {
   "cell_type": "code",
   "execution_count": 89,
   "id": "fb9ef0e5-bd02-4dd4-8e44-91f91eda1047",
   "metadata": {},
   "outputs": [
    {
     "data": {
      "text/html": [
       "<div>\n",
       "<style scoped>\n",
       "    .dataframe tbody tr th:only-of-type {\n",
       "        vertical-align: middle;\n",
       "    }\n",
       "\n",
       "    .dataframe tbody tr th {\n",
       "        vertical-align: top;\n",
       "    }\n",
       "\n",
       "    .dataframe thead th {\n",
       "        text-align: right;\n",
       "    }\n",
       "</style>\n",
       "<table border=\"1\" class=\"dataframe\">\n",
       "  <thead>\n",
       "    <tr style=\"text-align: right;\">\n",
       "      <th></th>\n",
       "      <th>CPI</th>\n",
       "      <th>Home Price Index</th>\n",
       "      <th>Federal Funds Rate</th>\n",
       "      <th>GDP</th>\n",
       "      <th>Housing Starts</th>\n",
       "      <th>Crude Oil Prices</th>\n",
       "      <th>Median Household Income</th>\n",
       "      <th>Population</th>\n",
       "      <th>Unemployment Rate</th>\n",
       "      <th>Building Permits</th>\n",
       "    </tr>\n",
       "  </thead>\n",
       "  <tbody>\n",
       "    <tr>\n",
       "      <th>0</th>\n",
       "      <td>111.400</td>\n",
       "      <td>63.965</td>\n",
       "      <td>6.43</td>\n",
       "      <td>4863.390000</td>\n",
       "      <td>1774.0</td>\n",
       "      <td>18.65</td>\n",
       "      <td>4863.390000</td>\n",
       "      <td>241784.000</td>\n",
       "      <td>6.6</td>\n",
       "      <td>1690.0</td>\n",
       "    </tr>\n",
       "    <tr>\n",
       "      <th>1</th>\n",
       "      <td>111.800</td>\n",
       "      <td>64.423</td>\n",
       "      <td>6.10</td>\n",
       "      <td>4893.305667</td>\n",
       "      <td>1784.0</td>\n",
       "      <td>17.75</td>\n",
       "      <td>4893.305667</td>\n",
       "      <td>241930.000</td>\n",
       "      <td>6.6</td>\n",
       "      <td>1689.0</td>\n",
       "    </tr>\n",
       "    <tr>\n",
       "      <th>2</th>\n",
       "      <td>112.200</td>\n",
       "      <td>64.735</td>\n",
       "      <td>6.13</td>\n",
       "      <td>4923.221333</td>\n",
       "      <td>1726.0</td>\n",
       "      <td>18.30</td>\n",
       "      <td>4923.221333</td>\n",
       "      <td>242079.000</td>\n",
       "      <td>6.6</td>\n",
       "      <td>1704.0</td>\n",
       "    </tr>\n",
       "    <tr>\n",
       "      <th>3</th>\n",
       "      <td>112.700</td>\n",
       "      <td>65.131</td>\n",
       "      <td>6.37</td>\n",
       "      <td>4953.137000</td>\n",
       "      <td>1614.0</td>\n",
       "      <td>18.68</td>\n",
       "      <td>4953.137000</td>\n",
       "      <td>242252.000</td>\n",
       "      <td>6.3</td>\n",
       "      <td>1601.0</td>\n",
       "    </tr>\n",
       "    <tr>\n",
       "      <th>4</th>\n",
       "      <td>113.000</td>\n",
       "      <td>65.563</td>\n",
       "      <td>6.85</td>\n",
       "      <td>4978.764333</td>\n",
       "      <td>1628.0</td>\n",
       "      <td>19.44</td>\n",
       "      <td>4978.764333</td>\n",
       "      <td>242423.000</td>\n",
       "      <td>6.3</td>\n",
       "      <td>1500.0</td>\n",
       "    </tr>\n",
       "    <tr>\n",
       "      <th>...</th>\n",
       "      <td>...</td>\n",
       "      <td>...</td>\n",
       "      <td>...</td>\n",
       "      <td>...</td>\n",
       "      <td>...</td>\n",
       "      <td>...</td>\n",
       "      <td>...</td>\n",
       "      <td>...</td>\n",
       "      <td>...</td>\n",
       "      <td>...</td>\n",
       "    </tr>\n",
       "    <tr>\n",
       "      <th>443</th>\n",
       "      <td>308.742</td>\n",
       "      <td>314.443</td>\n",
       "      <td>5.33</td>\n",
       "      <td>28982.957333</td>\n",
       "      <td>1568.0</td>\n",
       "      <td>71.90</td>\n",
       "      <td>28982.957333</td>\n",
       "      <td>336000.763</td>\n",
       "      <td>3.7</td>\n",
       "      <td>1530.0</td>\n",
       "    </tr>\n",
       "    <tr>\n",
       "      <th>444</th>\n",
       "      <td>309.685</td>\n",
       "      <td>315.728</td>\n",
       "      <td>5.33</td>\n",
       "      <td>29104.070000</td>\n",
       "      <td>1376.0</td>\n",
       "      <td>74.15</td>\n",
       "      <td>29104.070000</td>\n",
       "      <td>336139.132</td>\n",
       "      <td>3.7</td>\n",
       "      <td>1508.0</td>\n",
       "    </tr>\n",
       "    <tr>\n",
       "      <th>445</th>\n",
       "      <td>311.054</td>\n",
       "      <td>317.257</td>\n",
       "      <td>5.33</td>\n",
       "      <td>29234.510000</td>\n",
       "      <td>1546.0</td>\n",
       "      <td>77.25</td>\n",
       "      <td>29234.510000</td>\n",
       "      <td>336249.709</td>\n",
       "      <td>3.9</td>\n",
       "      <td>1563.0</td>\n",
       "    </tr>\n",
       "    <tr>\n",
       "      <th>446</th>\n",
       "      <td>312.230</td>\n",
       "      <td>318.217</td>\n",
       "      <td>5.33</td>\n",
       "      <td>29365.950000</td>\n",
       "      <td>1299.0</td>\n",
       "      <td>81.28</td>\n",
       "      <td>29365.950000</td>\n",
       "      <td>336361.391</td>\n",
       "      <td>3.8</td>\n",
       "      <td>1485.0</td>\n",
       "    </tr>\n",
       "    <tr>\n",
       "      <th>447</th>\n",
       "      <td>313.207</td>\n",
       "      <td>319.048</td>\n",
       "      <td>5.33</td>\n",
       "      <td>29365.950000</td>\n",
       "      <td>1377.0</td>\n",
       "      <td>85.35</td>\n",
       "      <td>29365.950000</td>\n",
       "      <td>336484.613</td>\n",
       "      <td>3.9</td>\n",
       "      <td>1485.0</td>\n",
       "    </tr>\n",
       "  </tbody>\n",
       "</table>\n",
       "<p>448 rows × 10 columns</p>\n",
       "</div>"
      ],
      "text/plain": [
       "         CPI  Home Price Index  Federal Funds Rate           GDP  \\\n",
       "0    111.400            63.965                6.43   4863.390000   \n",
       "1    111.800            64.423                6.10   4893.305667   \n",
       "2    112.200            64.735                6.13   4923.221333   \n",
       "3    112.700            65.131                6.37   4953.137000   \n",
       "4    113.000            65.563                6.85   4978.764333   \n",
       "..       ...               ...                 ...           ...   \n",
       "443  308.742           314.443                5.33  28982.957333   \n",
       "444  309.685           315.728                5.33  29104.070000   \n",
       "445  311.054           317.257                5.33  29234.510000   \n",
       "446  312.230           318.217                5.33  29365.950000   \n",
       "447  313.207           319.048                5.33  29365.950000   \n",
       "\n",
       "     Housing Starts  Crude Oil Prices  Median Household Income  Population  \\\n",
       "0            1774.0             18.65              4863.390000  241784.000   \n",
       "1            1784.0             17.75              4893.305667  241930.000   \n",
       "2            1726.0             18.30              4923.221333  242079.000   \n",
       "3            1614.0             18.68              4953.137000  242252.000   \n",
       "4            1628.0             19.44              4978.764333  242423.000   \n",
       "..              ...               ...                      ...         ...   \n",
       "443          1568.0             71.90             28982.957333  336000.763   \n",
       "444          1376.0             74.15             29104.070000  336139.132   \n",
       "445          1546.0             77.25             29234.510000  336249.709   \n",
       "446          1299.0             81.28             29365.950000  336361.391   \n",
       "447          1377.0             85.35             29365.950000  336484.613   \n",
       "\n",
       "     Unemployment Rate  Building Permits  \n",
       "0                  6.6            1690.0  \n",
       "1                  6.6            1689.0  \n",
       "2                  6.6            1704.0  \n",
       "3                  6.3            1601.0  \n",
       "4                  6.3            1500.0  \n",
       "..                 ...               ...  \n",
       "443                3.7            1530.0  \n",
       "444                3.7            1508.0  \n",
       "445                3.9            1563.0  \n",
       "446                3.8            1485.0  \n",
       "447                3.9            1485.0  \n",
       "\n",
       "[448 rows x 10 columns]"
      ]
     },
     "execution_count": 89,
     "metadata": {},
     "output_type": "execute_result"
    }
   ],
   "source": [
    "# We don't need date now, so drop it \n",
    "df = df.drop([\"date\"],axis = 1)\n",
    "df"
   ]
  },
  {
   "cell_type": "code",
   "execution_count": 90,
   "id": "cf997852-9613-41d1-8167-57b77a8490bd",
   "metadata": {},
   "outputs": [
    {
     "data": {
      "text/plain": [
       "Index(['CPI', 'Home Price Index', 'Federal Funds Rate', 'GDP',\n",
       "       'Housing Starts', 'Crude Oil Prices', 'Median Household Income',\n",
       "       'Population', 'Unemployment Rate', 'Building Permits'],\n",
       "      dtype='object')"
      ]
     },
     "execution_count": 90,
     "metadata": {},
     "output_type": "execute_result"
    }
   ],
   "source": [
    "df.columns"
   ]
  },
  {
   "cell_type": "code",
   "execution_count": 91,
   "id": "bc4d3598-27bf-4bc8-aa25-564cb6abeba0",
   "metadata": {},
   "outputs": [],
   "source": [
    "from sklearn.model_selection import train_test_split\n",
    "X = df.drop(['Home Price Index'],axis = 1)\n",
    "y = df['Home Price Index']\n",
    "X_train, X_test, y_train, y_test = train_test_split(X, y, test_size=0.2, random_state=42)"
   ]
  },
  {
   "cell_type": "code",
   "execution_count": 92,
   "id": "0b3f291a-8ce6-4b6b-890f-bec1869f5e63",
   "metadata": {
    "scrolled": true
   },
   "outputs": [
    {
     "name": "stdout",
     "output_type": "stream",
     "text": [
      "Linear Regression\n",
      "Mean Squared Error: 75.23006043381967\n",
      "R^2 Score: 0.9862800353887335\n"
     ]
    }
   ],
   "source": [
    "from sklearn.linear_model import LinearRegression\n",
    "from sklearn.metrics import mean_squared_error, r2_score\n",
    "\n",
    "lr = LinearRegression()\n",
    "lr.fit(X_train, y_train)\n",
    "\n",
    "y_pred = lr.predict(X_test)\n",
    "\n",
    "print(\"Linear Regression\")\n",
    "print(\"Mean Squared Error:\", mean_squared_error(y_test, y_pred))\n",
    "print(\"R^2 Score:\", r2_score(y_test, y_pred))\n"
   ]
  },
  {
   "cell_type": "code",
   "execution_count": 93,
   "id": "5fea5e7e-71d8-4477-9895-a5ab82d943ef",
   "metadata": {},
   "outputs": [
    {
     "name": "stdout",
     "output_type": "stream",
     "text": [
      "Decision Tree Regressor\n",
      "Mean Squared Error: 2.35252667777777\n",
      "R^2 Score: 0.9995709616265088\n"
     ]
    }
   ],
   "source": [
    "from sklearn.tree import DecisionTreeRegressor\n",
    "\n",
    "dt = DecisionTreeRegressor(random_state=42)\n",
    "dt.fit(X_train, y_train)\n",
    "\n",
    "y_pred = dt.predict(X_test)\n",
    "\n",
    "print(\"Decision Tree Regressor\")\n",
    "print(\"Mean Squared Error:\", mean_squared_error(y_test, y_pred))\n",
    "print(\"R^2 Score:\", r2_score(y_test, y_pred))\n"
   ]
  },
  {
   "cell_type": "code",
   "execution_count": 94,
   "id": "70b2571a-4338-4752-80a0-e17c3eb0ba9c",
   "metadata": {},
   "outputs": [
    {
     "name": "stdout",
     "output_type": "stream",
     "text": [
      "Random Forest Regressor\n",
      "Mean Squared Error: 0.9767143117788343\n",
      "R^2 Score: 0.9998218732549775\n"
     ]
    }
   ],
   "source": [
    "from sklearn.ensemble import RandomForestRegressor\n",
    "\n",
    "rf = RandomForestRegressor(random_state=42)\n",
    "rf.fit(X_train, y_train)\n",
    "\n",
    "y_pred = rf.predict(X_test)\n",
    "\n",
    "print(\"Random Forest Regressor\")\n",
    "print(\"Mean Squared Error:\", mean_squared_error(y_test, y_pred))\n",
    "print(\"R^2 Score:\", r2_score(y_test, y_pred))\n"
   ]
  },
  {
   "cell_type": "code",
   "execution_count": 95,
   "id": "55bd4b5c-360c-4073-922d-6afab0258452",
   "metadata": {},
   "outputs": [
    {
     "name": "stdout",
     "output_type": "stream",
     "text": [
      "Gradient Boosting Regressor\n",
      "Mean Squared Error: 1.3295277485038506\n",
      "R^2 Score: 0.9997575294562575\n"
     ]
    }
   ],
   "source": [
    "from sklearn.ensemble import GradientBoostingRegressor\n",
    "\n",
    "gb = GradientBoostingRegressor(random_state=42)\n",
    "gb.fit(X_train, y_train)\n",
    "\n",
    "y_pred = gb.predict(X_test)\n",
    "\n",
    "print(\"Gradient Boosting Regressor\")\n",
    "print(\"Mean Squared Error:\", mean_squared_error(y_test, y_pred))\n",
    "print(\"R^2 Score:\", r2_score(y_test, y_pred))\n"
   ]
  },
  {
   "cell_type": "markdown",
   "id": "6dd6f6c0-2a13-4f74-a33f-27c3c154cb35",
   "metadata": {},
   "source": [
    "### Random Forest Regressor is the best model with minimum MSE and High R Squared Score."
   ]
  },
  {
   "cell_type": "code",
   "execution_count": 97,
   "id": "82803143-e443-4ffd-bec1-58505deaedc8",
   "metadata": {},
   "outputs": [
    {
     "name": "stdout",
     "output_type": "stream",
     "text": [
      "[237.89926]\n"
     ]
    }
   ],
   "source": [
    "# Lets test random forest model on a sample data : \n",
    "sample_test_case = [[260.0,  # CPI\n",
    "                     0.05,   # Federal Funds Rate\n",
    "                     21000.0,  # GDP (in billions)\n",
    "                     1200.0,  # Housing Starts (in thousands)\n",
    "                     70.0,   # Crude Oil Prices (in USD per barrel)\n",
    "                     68000.0,  # Median Household Income (in USD)\n",
    "                     330000.0,  # Population (in thousands)\n",
    "                     0.05,   # Unemployment Rate\n",
    "                     1300.0]]  # Building Permits (in thousands)\n",
    "print(rf.predict(sample_test_case))"
   ]
  },
  {
   "cell_type": "markdown",
   "id": "f3675ec0-152b-4832-9405-5c1d87e70e23",
   "metadata": {},
   "source": [
    "For the given input values, the Home Price Index (HPI) is **237.89926**, indicating a **137.90%** increase since the base period (January 2000, HPI = 100). This means home prices are **2.379 times** higher than the base value.\n",
    "\n",
    "\n",
    "Ex. If a house costed **100,000 USD** in Jan 2000, It would cost **237,900 USD** for these given input values. \n"
   ]
  },
  {
   "cell_type": "markdown",
   "id": "51fd513a-253c-4905-9114-1808cf382ed6",
   "metadata": {},
   "source": [
    "### Lets save the model to pickle file."
   ]
  },
  {
   "cell_type": "code",
   "execution_count": 99,
   "id": "603f2683-5c46-4bb4-ad7a-95af908079c3",
   "metadata": {},
   "outputs": [],
   "source": [
    "import pickle\n",
    "\n",
    "with open(\"rfr.pkl\", \"wb\") as file:\n",
    "    pickle.dump(rf, file)"
   ]
  },
  {
   "cell_type": "code",
   "execution_count": 100,
   "id": "6837653a-c1ae-4e40-ba8d-a9eef6a66878",
   "metadata": {},
   "outputs": [
    {
     "name": "stdout",
     "output_type": "stream",
     "text": [
      "[237.89926]\n"
     ]
    }
   ],
   "source": [
    "# Loading the model from the file\n",
    "import pickle\n",
    "\n",
    "with open(\"rfr.pkl\", \"rb\") as file:\n",
    "    loaded_rf = pickle.load(file)\n",
    "\n",
    "predictions = loaded_rf.predict(sample_test_case)\n",
    "print(predictions)"
   ]
  }
 ],
 "metadata": {
  "kernelspec": {
   "display_name": "Python 3 (ipykernel)",
   "language": "python",
   "name": "python3"
  },
  "language_info": {
   "codemirror_mode": {
    "name": "ipython",
    "version": 3
   },
   "file_extension": ".py",
   "mimetype": "text/x-python",
   "name": "python",
   "nbconvert_exporter": "python",
   "pygments_lexer": "ipython3",
   "version": "3.11.4"
  }
 },
 "nbformat": 4,
 "nbformat_minor": 5
}
